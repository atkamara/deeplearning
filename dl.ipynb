{
 "cells": [
  {
   "cell_type": "markdown",
   "id": "7d54d356-bf62-4c4c-85af-0ade17ce59c6",
   "metadata": {},
   "source": [
    "# Up and going with tf( version 1)"
   ]
  },
  {
   "cell_type": "markdown",
   "id": "963f1165-d24f-4ef4-b2e4-37159c42f78f",
   "metadata": {},
   "source": [
    "## Imports"
   ]
  },
  {
   "cell_type": "code",
   "execution_count": 2,
   "id": "040b7d28-fb0a-4987-9e40-d8bd722700d4",
   "metadata": {},
   "outputs": [
    {
     "name": "stderr",
     "output_type": "stream",
     "text": [
      "2024-02-06 18:17:43.419147: I tensorflow/core/util/port.cc:113] oneDNN custom operations are on. You may see slightly different numerical results due to floating-point round-off errors from different computation orders. To turn them off, set the environment variable `TF_ENABLE_ONEDNN_OPTS=0`.\n",
      "2024-02-06 18:17:44.018183: I tensorflow/core/platform/cpu_feature_guard.cc:182] This TensorFlow binary is optimized to use available CPU instructions in performance-critical operations.\n",
      "To enable the following instructions: AVX2 AVX_VNNI FMA, in other operations, rebuild TensorFlow with the appropriate compiler flags.\n"
     ]
    }
   ],
   "source": [
    "import tensorflow.compat.v1 as tf\n",
    "import numpy\n",
    "from sklearn.datasets import fetch_california_housing"
   ]
  },
  {
   "cell_type": "code",
   "execution_count": null,
   "id": "0ce9ff98-86ba-4d9a-8c9a-43428697304a",
   "metadata": {},
   "outputs": [],
   "source": []
  },
  {
   "cell_type": "code",
   "execution_count": 3,
   "id": "c9f3e3b9-3496-4d42-acd2-fc989861c8b3",
   "metadata": {},
   "outputs": [],
   "source": [
    "tf.disable_eager_execution() "
   ]
  },
  {
   "cell_type": "code",
   "execution_count": 4,
   "id": "2c6f0eeb-4378-47be-a58d-40f1095803fd",
   "metadata": {},
   "outputs": [],
   "source": [
    "x = tf.Variable(3,name='x')\n",
    "y = tf.Variable(8,name='y')"
   ]
  },
  {
   "cell_type": "code",
   "execution_count": 5,
   "id": "7ac98e0f-a57a-4466-8c80-ad7c87f78a3a",
   "metadata": {},
   "outputs": [],
   "source": [
    "f = x*x*y + y + 5"
   ]
  },
  {
   "cell_type": "code",
   "execution_count": 6,
   "id": "ee8fe634-b9f3-4128-82c6-ac4a19b73a02",
   "metadata": {},
   "outputs": [],
   "source": [
    "sess = tf.Session()"
   ]
  },
  {
   "cell_type": "code",
   "execution_count": 7,
   "id": "9107a47c-8396-4291-b041-03385fc7bcab",
   "metadata": {},
   "outputs": [
    {
     "name": "stderr",
     "output_type": "stream",
     "text": [
      "2024-02-06 18:17:50.045584: I tensorflow/compiler/mlir/mlir_graph_optimization_pass.cc:388] MLIR V1 optimization pass is not enabled\n"
     ]
    }
   ],
   "source": [
    "sess.run(x.initializer)"
   ]
  },
  {
   "cell_type": "code",
   "execution_count": 8,
   "id": "cd745e88-a9f1-42ab-a563-feb14a8bcb63",
   "metadata": {},
   "outputs": [],
   "source": [
    "sess.run(y.initializer)"
   ]
  },
  {
   "cell_type": "code",
   "execution_count": 9,
   "id": "dba030ac-1364-4435-b6df-f18a2cde5d6b",
   "metadata": {},
   "outputs": [],
   "source": [
    "result = sess.run(f)"
   ]
  },
  {
   "cell_type": "code",
   "execution_count": 10,
   "id": "dd4e7b0d-3f3d-4efe-a354-452616604803",
   "metadata": {},
   "outputs": [
    {
     "data": {
      "text/plain": [
       "85"
      ]
     },
     "execution_count": 10,
     "metadata": {},
     "output_type": "execute_result"
    }
   ],
   "source": [
    "result"
   ]
  },
  {
   "cell_type": "code",
   "execution_count": 11,
   "id": "03cda6d7-6a4a-4cc9-aa49-d74464eee822",
   "metadata": {},
   "outputs": [],
   "source": [
    "sess.close()"
   ]
  },
  {
   "cell_type": "code",
   "execution_count": 12,
   "id": "e1f2bbf6-9c3f-4bb1-a188-81bb119979c8",
   "metadata": {},
   "outputs": [],
   "source": [
    "with tf.Session() as sess:\n",
    "    x.initializer.run()\n",
    "    y.initializer.run()\n",
    "    res = sess.run(f)"
   ]
  },
  {
   "cell_type": "code",
   "execution_count": 13,
   "id": "dca3a6c0-1eb0-4407-865a-f1f5dc6877b5",
   "metadata": {},
   "outputs": [
    {
     "data": {
      "text/plain": [
       "85"
      ]
     },
     "execution_count": 13,
     "metadata": {},
     "output_type": "execute_result"
    }
   ],
   "source": [
    "res"
   ]
  },
  {
   "cell_type": "code",
   "execution_count": 14,
   "id": "344f3507-49c6-4cce-8908-83b093afaedd",
   "metadata": {},
   "outputs": [],
   "source": [
    "with tf.Session() as sess:\n",
    "    x.initializer.run()\n",
    "    y.initializer.run()\n",
    "    res = f.eval()"
   ]
  },
  {
   "cell_type": "code",
   "execution_count": 15,
   "id": "3d0c1f56-66f3-40b8-aa54-c0a49e6dd1c5",
   "metadata": {},
   "outputs": [],
   "source": [
    "init = tf.global_variables_initializer()\n",
    "with tf.Session() as sess:\n",
    "    init.run()\n",
    "    res = f.eval()"
   ]
  },
  {
   "cell_type": "code",
   "execution_count": 16,
   "id": "ebe05635-80a3-42fc-a225-661190a6996a",
   "metadata": {},
   "outputs": [
    {
     "data": {
      "text/plain": [
       "85"
      ]
     },
     "execution_count": 16,
     "metadata": {},
     "output_type": "execute_result"
    }
   ],
   "source": [
    "res"
   ]
  },
  {
   "cell_type": "code",
   "execution_count": 17,
   "id": "c9f258b8-ee04-4068-85bd-778cb315cc75",
   "metadata": {},
   "outputs": [],
   "source": [
    "x1 = tf.Variable(1)"
   ]
  },
  {
   "cell_type": "code",
   "execution_count": 18,
   "id": "57d18ffa-ccfa-443b-8950-582b6e8bc652",
   "metadata": {},
   "outputs": [
    {
     "data": {
      "text/plain": [
       "<tensorflow.python.framework.ops.Graph at 0x7fc88a16e8c0>"
      ]
     },
     "execution_count": 18,
     "metadata": {},
     "output_type": "execute_result"
    }
   ],
   "source": [
    "x1.graph"
   ]
  },
  {
   "cell_type": "code",
   "execution_count": 19,
   "id": "36a7127f-a2cf-4284-ab92-6fe79fcf6c3d",
   "metadata": {},
   "outputs": [
    {
     "data": {
      "text/plain": [
       "<tensorflow.python.framework.ops.Graph at 0x7fc88a16e8c0>"
      ]
     },
     "execution_count": 19,
     "metadata": {},
     "output_type": "execute_result"
    }
   ],
   "source": [
    "tf.get_default_graph()"
   ]
  },
  {
   "cell_type": "code",
   "execution_count": 20,
   "id": "94dc0441-c4d9-425e-9250-36496faa2dbf",
   "metadata": {},
   "outputs": [
    {
     "data": {
      "text/plain": [
       "True"
      ]
     },
     "execution_count": 20,
     "metadata": {},
     "output_type": "execute_result"
    }
   ],
   "source": [
    "x1.graph is tf.get_default_graph()"
   ]
  },
  {
   "cell_type": "code",
   "execution_count": 21,
   "id": "2405b353-a66d-4c94-8776-1a07ffa3e419",
   "metadata": {},
   "outputs": [],
   "source": [
    "graph = tf.Graph()\n",
    "with graph.as_default():\n",
    "    x2 = tf.Variable(3)\n",
    "    "
   ]
  },
  {
   "cell_type": "code",
   "execution_count": 22,
   "id": "d0581d11-c4bd-4638-a0b8-78c8fd1eaad6",
   "metadata": {},
   "outputs": [
    {
     "data": {
      "text/plain": [
       "True"
      ]
     },
     "execution_count": 22,
     "metadata": {},
     "output_type": "execute_result"
    }
   ],
   "source": [
    "x2.graph is graph"
   ]
  },
  {
   "cell_type": "code",
   "execution_count": 23,
   "id": "b6e53b1b-94df-4093-bd94-1a4d97b5aa2d",
   "metadata": {},
   "outputs": [
    {
     "data": {
      "text/plain": [
       "False"
      ]
     },
     "execution_count": 23,
     "metadata": {},
     "output_type": "execute_result"
    }
   ],
   "source": [
    "x2.graph is tf.get_default_graph()"
   ]
  },
  {
   "cell_type": "code",
   "execution_count": 24,
   "id": "1d175460-0e30-48be-9280-e4a607b230fc",
   "metadata": {},
   "outputs": [
    {
     "name": "stdout",
     "output_type": "stream",
     "text": [
      "10\n",
      "15\n"
     ]
    }
   ],
   "source": [
    "w = tf.constant(3)\n",
    "x = w + 2\n",
    "y = x + 5\n",
    "z = x * 3\n",
    "with tf.Session() as sess:\n",
    "    print(y.eval())\n",
    "    print(z.eval()) "
   ]
  },
  {
   "cell_type": "code",
   "execution_count": 25,
   "id": "1b5c33f9-1c42-4bb2-b2d0-83c080fa33ab",
   "metadata": {},
   "outputs": [
    {
     "name": "stdout",
     "output_type": "stream",
     "text": [
      "10\n",
      "15\n"
     ]
    }
   ],
   "source": [
    "with tf.Session() as sess:\n",
    "    y_val, z_val = sess.run([y, z])\n",
    "    print(y_val) # 10\n",
    "    print(z_val) # 15"
   ]
  },
  {
   "cell_type": "code",
   "execution_count": 26,
   "id": "e49c0d83-c87d-4ada-9e2e-839e888b1014",
   "metadata": {},
   "outputs": [],
   "source": [
    "housing = fetch_california_housing()\n",
    "m, n = housing.data.shape\n",
    "housing_data_plus_bias = numpy.c_[numpy.ones((m, 1)), housing.data]\n"
   ]
  },
  {
   "cell_type": "code",
   "execution_count": 27,
   "id": "5315d5fd-49dc-41ca-bee6-5676797e5e5f",
   "metadata": {},
   "outputs": [
    {
     "data": {
      "text/plain": [
       "(20640, 8)"
      ]
     },
     "execution_count": 27,
     "metadata": {},
     "output_type": "execute_result"
    }
   ],
   "source": [
    "m,n"
   ]
  },
  {
   "cell_type": "code",
   "execution_count": 28,
   "id": "13fc7a76-1bcd-478d-adbe-330970ff1648",
   "metadata": {},
   "outputs": [],
   "source": [
    "X = tf.constant(housing_data_plus_bias, dtype=tf.float32, name=\"X\")\n",
    "y = tf.constant(housing.target.reshape(-1, 1), dtype=tf.float32, name=\"y\")\n",
    "XT = tf.transpose(X)\n",
    "theta = tf.matmul(tf.matmul(tf.matrix_inverse(tf.matmul(XT, X)), XT), y)\n",
    "with tf.Session() as sess:\n",
    "    theta_value = theta.eval()"
   ]
  },
  {
   "cell_type": "code",
   "execution_count": 29,
   "id": "391ca47d-5e1d-4ba0-b97a-14939e4cce3d",
   "metadata": {},
   "outputs": [],
   "source": [
    "scaled_housing_data_plus_bias = housing_data_plus_bias.copy()\n",
    "means,stds = housing_data_plus_bias[:,1:].mean(axis=0),housing_data_plus_bias[:,1:].std(axis=0)\n",
    "scaled_housing_data_plus_bias[:,1:] -= means\n",
    "scaled_housing_data_plus_bias[:,1:] /= stds"
   ]
  },
  {
   "cell_type": "code",
   "execution_count": 30,
   "id": "be595161-54ef-46ec-854b-2256fc7a8719",
   "metadata": {},
   "outputs": [
    {
     "name": "stdout",
     "output_type": "stream",
     "text": [
      "Epoch 0 MSE = 7.7471232\n",
      "Epoch 100 MSE = 7.419629\n",
      "Epoch 200 MSE = 7.1082563\n",
      "Epoch 300 MSE = 6.812129\n",
      "Epoch 400 MSE = 6.5304294\n",
      "Epoch 500 MSE = 6.2623806\n",
      "Epoch 600 MSE = 6.007256\n",
      "Epoch 700 MSE = 5.7643743\n",
      "Epoch 800 MSE = 5.5330896\n",
      "Epoch 900 MSE = 5.312796\n"
     ]
    }
   ],
   "source": [
    "n_epochs = 1000\n",
    "learning_rate = 0.01\n",
    "\n",
    "X = tf.constant(scaled_housing_data_plus_bias, dtype=tf.float32, name=\"X\")\n",
    "y = tf.constant(housing.target.reshape(-1, 1), dtype=tf.float32, name=\"y\")\n",
    "theta = tf.Variable(tf.random_uniform([n + 1, 1], -1.0, 1.0), name=\"theta\")\n",
    "y_pred = tf.matmul(X, theta, name=\"predictions\")\n",
    "error = y_pred - y\n",
    "mse = tf.reduce_mean(tf.square(error), name=\"mse\")\n",
    "gradients = 2/m * tf.matmul(tf.transpose(X), error)\n",
    "training_op = tf.assign(theta, theta - learning_rate * gradients)\n",
    "\n",
    "init = tf.global_variables_initializer()\n",
    "\n",
    "with tf.Session() as sess:\n",
    "    sess.run(init)\n",
    "    for epoch in range(n_epochs):\n",
    "        if epoch % 100 == 0:\n",
    "            print(\"Epoch\", epoch, \"MSE =\", mse.eval())\n",
    "            sess.run(training_op)\n",
    "            best_theta = theta.eval()"
   ]
  },
  {
   "cell_type": "code",
   "execution_count": 34,
   "id": "5a1f8df9-910c-4581-b004-1c29b323877a",
   "metadata": {},
   "outputs": [],
   "source": [
    "A = tf.placeholder(tf.float32,shape=(None,3))\n",
    "B = A +5\n",
    "\n",
    "with tf.Session() as sess:\n",
    "    B1 = B.eval(feed_dict={A:[[1,2,3],[7,8,9]]})"
   ]
  },
  {
   "cell_type": "code",
   "execution_count": 35,
   "id": "c38457a9-b614-45c6-8f92-bb9083a038f9",
   "metadata": {},
   "outputs": [
    {
     "data": {
      "text/plain": [
       "array([[ 6.,  7.,  8.],\n",
       "       [12., 13., 14.]], dtype=float32)"
      ]
     },
     "execution_count": 35,
     "metadata": {},
     "output_type": "execute_result"
    }
   ],
   "source": [
    "B1"
   ]
  },
  {
   "cell_type": "markdown",
   "id": "5c0f3269-f504-44fb-bd45-d59a31d8f6b9",
   "metadata": {},
   "source": [
    "# Mini Batch Gradient Descent"
   ]
  },
  {
   "cell_type": "markdown",
   "id": "be3ebd0b-db42-48a1-bd9c-adc0557aadce",
   "metadata": {},
   "source": [
    "## Unscaled data( Exploding Gradient)"
   ]
  },
  {
   "cell_type": "code",
   "execution_count": 39,
   "id": "73ec8810-4501-4bfb-903c-767252a8a697",
   "metadata": {},
   "outputs": [],
   "source": [
    "def fetch_mini_batch(ix,size):\n",
    "    ix   = slice(size*ix,size*(ix+1))\n",
    "    data = lambda : fetch_california_housing()\n",
    "    y = data().target[ix].reshape(-1,1)\n",
    "    X = data().data[ix,:]\n",
    "    bias = numpy.ones((min(size,len(X)), 1))\n",
    "    X = numpy.c_[bias, X]\n",
    "    return y,X     "
   ]
  },
  {
   "cell_type": "code",
   "execution_count": 40,
   "id": "89a68538-a540-4c25-96b5-2d3a98918ab1",
   "metadata": {},
   "outputs": [
    {
     "data": {
      "text/plain": [
       "((array([[2.697],\n",
       "         [2.992],\n",
       "         [2.414],\n",
       "         [2.267],\n",
       "         [2.611]]),\n",
       "  array([[ 1.00000000e+00,  4.03680000e+00,  5.20000000e+01,\n",
       "           4.76165803e+00,  1.10362694e+00,  4.13000000e+02,\n",
       "           2.13989637e+00,  3.78500000e+01, -1.22250000e+02],\n",
       "         [ 1.00000000e+00,  3.65910000e+00,  5.20000000e+01,\n",
       "           4.93190661e+00,  9.51361868e-01,  1.09400000e+03,\n",
       "           2.12840467e+00,  3.78400000e+01, -1.22250000e+02],\n",
       "         [ 1.00000000e+00,  3.12000000e+00,  5.20000000e+01,\n",
       "           4.79752705e+00,  1.06182380e+00,  1.15700000e+03,\n",
       "           1.78825348e+00,  3.78400000e+01, -1.22250000e+02],\n",
       "         [ 1.00000000e+00,  2.08040000e+00,  4.20000000e+01,\n",
       "           4.29411765e+00,  1.11764706e+00,  1.20600000e+03,\n",
       "           2.02689076e+00,  3.78400000e+01, -1.22260000e+02],\n",
       "         [ 1.00000000e+00,  3.69120000e+00,  5.20000000e+01,\n",
       "           4.97058824e+00,  9.90196078e-01,  1.55100000e+03,\n",
       "           2.17226891e+00,  3.78400000e+01, -1.22250000e+02]])),\n",
       " (5, 1),\n",
       " (5, 9))"
      ]
     },
     "execution_count": 40,
     "metadata": {},
     "output_type": "execute_result"
    }
   ],
   "source": [
    "(r:=fetch_mini_batch(1,5),r[0].shape,r[1].shape)"
   ]
  },
  {
   "cell_type": "code",
   "execution_count": 49,
   "id": "05e200d3-b1ab-4225-ab77-5b26b31e86da",
   "metadata": {},
   "outputs": [],
   "source": [
    "batch_size = 1000\n",
    "n_batches  = int(numpy.ceil(m/batch_size))"
   ]
  },
  {
   "cell_type": "code",
   "execution_count": 50,
   "id": "0be4a0db-9df7-48d9-be18-3dfec8bae0d6",
   "metadata": {},
   "outputs": [],
   "source": [
    "y = tf.placeholder(tf.float32,shape=(None,1),name='y')\n",
    "X = tf.placeholder(tf.float32,shape=(None,n+1),name='X')"
   ]
  },
  {
   "cell_type": "code",
   "execution_count": 51,
   "id": "f8c9cb0b-60b9-490e-a3a5-82fd84d8c89c",
   "metadata": {},
   "outputs": [],
   "source": [
    "lr = .1"
   ]
  },
  {
   "cell_type": "code",
   "execution_count": 52,
   "id": "c7149068-ded3-4fdd-be8c-cf089458f0e6",
   "metadata": {},
   "outputs": [],
   "source": [
    "θ = tf.Variable(numpy.zeros((n+1,1),dtype='float32'),name='Theta')\n",
    "yhat = tf.matmul(X,θ,name='predictions')\n",
    "\n",
    "ε = yhat - y\n",
    "\n",
    "mse = tf.reduce_mean(tf.square(ε),name='mse')\n",
    "\n",
    "gradients = (2/m)*tf.matmul(tf.transpose(X),ε)\n",
    "\n",
    "trainop = tf.assign(θ,θ-lr*gradients)"
   ]
  },
  {
   "cell_type": "code",
   "execution_count": 53,
   "id": "c68ff2af-c41b-464a-817e-13720ae60d8d",
   "metadata": {},
   "outputs": [
    {
     "name": "stdout",
     "output_type": "stream",
     "text": [
      "Epoch 0 MSE = nan\n",
      "Epoch 100 MSE = nan\n"
     ]
    }
   ],
   "source": [
    "n_epochs = 200\n",
    "init = tf.global_variables_initializer()\n",
    "\n",
    "with tf.Session() as sess:\n",
    "    sess.run(init)\n",
    "    for epoch in range(n_epochs):\n",
    "        for batch_ix in range(n_batches):\n",
    "            y_batch,X_batch = fetch_mini_batch(batch_ix,batch_size)\n",
    "            sess.run(trainop,feed_dict={y:y_batch,X:X_batch})\n",
    "        if epoch % 100 == 0:\n",
    "            print(\"Epoch\", epoch, \"MSE =\", mse.eval(feed_dict={y:y_batch,X:X_batch}))\n",
    "    best_theta = theta.eval()"
   ]
  },
  {
   "cell_type": "markdown",
   "id": "0e07a39e-7dac-443a-8b12-e10be3282a3e",
   "metadata": {},
   "source": [
    "## Scaled Data"
   ]
  },
  {
   "cell_type": "code",
   "execution_count": 54,
   "id": "ba81186e-6115-442d-ac58-ea73c4060c17",
   "metadata": {},
   "outputs": [],
   "source": [
    "def fetch_mini_batch(ix,size):\n",
    "    ix   = slice(size*ix,size*(ix+1))\n",
    "    data = lambda : fetch_california_housing()\n",
    "    y = data().target[ix].reshape(-1,1)\n",
    "    X = (data().data[ix,:]-means)/stds\n",
    "    bias = numpy.ones((min(size,len(X)), 1))\n",
    "    X = numpy.c_[bias, X]\n",
    "    return y,X    "
   ]
  },
  {
   "cell_type": "code",
   "execution_count": 60,
   "id": "fe110c9d-6734-410f-a5f9-a5de5e24ac4e",
   "metadata": {},
   "outputs": [
    {
     "name": "stdout",
     "output_type": "stream",
     "text": [
      "Epoch 0 MSE = 3.3881073\n",
      "Epoch 100 MSE = 0.39172354\n",
      "Epoch 200 MSE = 0.39354926\n",
      "Epoch 300 MSE = 0.3944077\n",
      "Epoch 400 MSE = 0.3944732\n",
      "Epoch 500 MSE = 0.39443097\n",
      "Epoch 600 MSE = 0.39439982\n",
      "Epoch 700 MSE = 0.394385\n",
      "Epoch 800 MSE = 0.39437777\n",
      "Epoch 900 MSE = 0.3943751\n"
     ]
    }
   ],
   "source": [
    "θ = tf.Variable(numpy.zeros((n+1,1),dtype='float32'),name='Theta')\n",
    "yhat = tf.matmul(X,θ,name='predictions')\n",
    "\n",
    "ε = yhat - y\n",
    "\n",
    "mse = tf.reduce_mean(tf.square(ε),name='mse')\n",
    "\n",
    "gradients = (2/m)*tf.matmul(tf.transpose(X),ε)\n",
    "\n",
    "trainop = tf.assign(θ,θ-lr*gradients)\n",
    "\n",
    "n_epochs = 1000\n",
    "init = tf.global_variables_initializer()\n",
    "\n",
    "saver = tf.train.Saver() #saving sessions\n",
    "\n",
    "with tf.Session() as sess:\n",
    "    sess.run(init)\n",
    "    \n",
    "    for epoch in range(n_epochs):\n",
    "        \n",
    "        for batch_ix in range(n_batches):\n",
    "            \n",
    "            y_batch,X_batch = fetch_mini_batch(batch_ix,batch_size)\n",
    "            \n",
    "            sess.run(trainop,feed_dict={y:y_batch,X:X_batch})\n",
    "            \n",
    "        if epoch % 100 == 0:\n",
    "                saver.save(sess,f\"models/model.ckpt\")\n",
    "                print(\"Epoch\", epoch, \"MSE =\", mse.eval(feed_dict={y:y_batch,X:X_batch}))\n",
    "    bestθ = θ.eval()\n",
    "    saver.save(sess,f\"models/modelfinal.ckpt\")\n"
   ]
  },
  {
   "cell_type": "code",
   "execution_count": 58,
   "id": "693dbe11-b7df-4357-b075-b5f5f472c187",
   "metadata": {},
   "outputs": [
    {
     "data": {
      "text/plain": [
       "array([[-0.9616356 ],\n",
       "       [ 0.40589   ],\n",
       "       [-0.8566716 ],\n",
       "       [-0.31369996],\n",
       "       [-0.19853783],\n",
       "       [ 0.49607372],\n",
       "       [-0.51161814],\n",
       "       [ 0.6872895 ],\n",
       "       [ 0.7328303 ]], dtype=float32)"
      ]
     },
     "execution_count": 58,
     "metadata": {},
     "output_type": "execute_result"
    }
   ],
   "source": [
    "best_theta"
   ]
  },
  {
   "cell_type": "markdown",
   "id": "3658984b-20ae-4420-a936-6dd6c3a3ffc7",
   "metadata": {},
   "source": [
    "# Visializing with tensorboard"
   ]
  },
  {
   "cell_type": "code",
   "execution_count": 76,
   "id": "4d90a28e-ca3b-48b0-b51b-07c0d623c57d",
   "metadata": {},
   "outputs": [
    {
     "data": {
      "text/plain": [
       "'tf_logs/run-2024-02-06-19-40-41/'"
      ]
     },
     "execution_count": 76,
     "metadata": {},
     "output_type": "execute_result"
    }
   ],
   "source": [
    "import datetime\n",
    "now = datetime.datetime.now().strftime('%Y-%m-%d-%H-%M-%S')\n",
    "logd = f'tf_logs/run-{now}/'\n",
    "logd"
   ]
  },
  {
   "cell_type": "code",
   "execution_count": 73,
   "id": "3ecd2959-4da1-4134-9069-e4f2734230d1",
   "metadata": {},
   "outputs": [],
   "source": [
    "graph = tf.Graph()\n",
    "\n",
    "with graph.as_default():\n",
    "    \n",
    "    y = tf.placeholder(tf.float32,shape=(None,1),name='y')\n",
    "    X = tf.placeholder(tf.float32,shape=(None,n+1),name='X')\n",
    "    \n",
    "    θ = tf.Variable(numpy.zeros((n+1,1),dtype='float32'),name='Theta')\n",
    "    yhat = tf.matmul(X,θ,name='predictions')\n",
    "    \n",
    "    ε = yhat - y\n",
    "    \n",
    "    mse = tf.reduce_mean(tf.square(ε),name='mse')\n",
    "    \n",
    "    gradients = (1/m)*tf.matmul(tf.transpose(X),ε) #it's same as using 2, when minimizing it\n",
    "    \n",
    "    trainop = tf.assign(θ,θ-lr*gradients)\n",
    "    \n",
    "    n_epochs = 1000\n",
    "    init = tf.global_variables_initializer()\n",
    "        \n",
    "    mse_summary = tf.summary.scalar('mse',mse)\n",
    "\n",
    "    file_writer = tf.summary.FileWriter(logd)\n",
    "    \n",
    "    with tf.Session() as sess:\n",
    "        sess.run(init)\n",
    "        \n",
    "        for epoch in range(n_epochs):\n",
    "            \n",
    "            for batch_ix in range(n_batches):\n",
    "                \n",
    "                y_batch,X_batch = fetch_mini_batch(batch_ix,batch_size)\n",
    "                \n",
    "                sess.run(trainop,feed_dict={y:y_batch,X:X_batch})\n",
    "                \n",
    "            if epoch % 100 == 0:\n",
    "                summary = mse_summary.eval(feed_dict={y:y_batch,X:X_batch})\n",
    "                file_writer.add_summary(summary,epoch)\n",
    "\n",
    "        bestθ = θ.eval()"
   ]
  },
  {
   "cell_type": "code",
   "execution_count": 79,
   "id": "4157e26f-17a7-48b5-a903-a28b0df0f903",
   "metadata": {},
   "outputs": [
    {
     "name": "stdout",
     "output_type": "stream",
     "text": [
      "\u001b[0m\u001b[01;34mrun-2024-02-06-19-10-02\u001b[0m/\n"
     ]
    }
   ],
   "source": [
    "%ls tf_logs/"
   ]
  },
  {
   "cell_type": "code",
   "execution_count": 80,
   "id": "edd0f518-7457-4a93-bb21-b9e387e12d9e",
   "metadata": {},
   "outputs": [
    {
     "name": "stdout",
     "output_type": "stream",
     "text": [
      "events.out.tfevents.1707247181.0e6ab30c0699\n",
      "events.out.tfevents.1707247840.0e6ab30c0699\n"
     ]
    }
   ],
   "source": [
    "%ls tf_logs/run-2024-02-06-19-10-02/"
   ]
  },
  {
   "cell_type": "code",
   "execution_count": 81,
   "id": "757e6a1c-237a-457e-a492-cce8f17a6252",
   "metadata": {},
   "outputs": [
    {
     "data": {
      "text/plain": [
       "<tensorflow.python.summary.writer.writer.FileWriter at 0x7fc8087f9d50>"
      ]
     },
     "execution_count": 81,
     "metadata": {},
     "output_type": "execute_result"
    }
   ],
   "source": [
    "file_writer"
   ]
  },
  {
   "cell_type": "code",
   "execution_count": 82,
   "id": "a881fea6-8835-4ce0-bc7d-a4f8fc387084",
   "metadata": {},
   "outputs": [],
   "source": [
    "file_writer.close()"
   ]
  },
  {
   "cell_type": "code",
   "execution_count": 84,
   "id": "f7c1cff8-8a44-49df-aee2-6e493468cbef",
   "metadata": {},
   "outputs": [
    {
     "name": "stdout",
     "output_type": "stream",
     "text": [
      "total 16\n",
      "drwxr-xr-x 2 analyst analyst 4096 Feb  6 19:30 \u001b[0m\u001b[01;34m.\u001b[0m/\n",
      "drwxr-xr-x 3 analyst analyst 4096 Feb  6 19:19 \u001b[01;34m..\u001b[0m/\n",
      "-rw-r--r-- 1 analyst analyst  514 Feb  6 19:26 events.out.tfevents.1707247181.0e6ab30c0699\n",
      "-rw-r--r-- 1 analyst analyst  514 Feb  6 19:51 events.out.tfevents.1707247840.0e6ab30c0699\n"
     ]
    }
   ],
   "source": [
    "%ls -la tf_logs/run-2024-02-06-19-10-02/"
   ]
  },
  {
   "cell_type": "code",
   "execution_count": null,
   "id": "f375a726-0589-4256-bcbd-9d10a2c24d6c",
   "metadata": {},
   "outputs": [
    {
     "name": "stdout",
     "output_type": "stream",
     "text": [
      "2024-02-06 19:53:43.934472: I tensorflow/core/util/port.cc:113] oneDNN custom operations are on. You may see slightly different numerical results due to floating-point round-off errors from different computation orders. To turn them off, set the environment variable `TF_ENABLE_ONEDNN_OPTS=0`.\n",
      "2024-02-06 19:53:44.199563: I tensorflow/core/platform/cpu_feature_guard.cc:182] This TensorFlow binary is optimized to use available CPU instructions in performance-critical operations.\n",
      "To enable the following instructions: AVX2 AVX_VNNI FMA, in other operations, rebuild TensorFlow with the appropriate compiler flags.\n"
     ]
    }
   ],
   "source": [
    "!tensorboard --logdir tf_logs/"
   ]
  },
  {
   "cell_type": "code",
   "execution_count": null,
   "id": "f2f44d65-9444-4771-9239-4fc0ba4e2fec",
   "metadata": {},
   "outputs": [],
   "source": []
  }
 ],
 "metadata": {
  "kernelspec": {
   "display_name": "Python 3 (ipykernel)",
   "language": "python",
   "name": "python3"
  },
  "language_info": {
   "codemirror_mode": {
    "name": "ipython",
    "version": 3
   },
   "file_extension": ".py",
   "mimetype": "text/x-python",
   "name": "python",
   "nbconvert_exporter": "python",
   "pygments_lexer": "ipython3",
   "version": "3.11.7"
  }
 },
 "nbformat": 4,
 "nbformat_minor": 5
}
