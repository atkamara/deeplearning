{
 "cells": [
  {
   "cell_type": "code",
   "execution_count": 1,
   "id": "6df2179f-3cba-4a94-be72-48fcc653aa01",
   "metadata": {},
   "outputs": [
    {
     "name": "stdout",
     "output_type": "stream",
     "text": [
      "\u001b[0m\u001b[01;32m'#logistic-regression-numpy.ipynb'\u001b[0m*   \u001b[01;32mfile.d\u001b[0m*\n",
      "'Classifying non linear data.ipynb'   \u001b[01;32mfile.db\u001b[0m*\n",
      " \u001b[01;32mDockerfile\u001b[0m*                          \u001b[01;34mlib\u001b[0m/\n",
      " MLP.ipynb                            \u001b[01;34mmodels\u001b[0m/\n",
      " ModelGraph.html                      \u001b[34;42mneural_net\u001b[0m/\n",
      "\u001b[01;32m'OLS with tf.ipynb'\u001b[0m*                  \u001b[01;32mpure_numpy_clean.ipynb\u001b[0m*\n",
      " Test.ipynb                           \u001b[01;32mpure_numpy_clean.py\u001b[0m*\n",
      " active_funcs.ipynb                   \u001b[01;32mreadme.md\u001b[0m*\n",
      " \u001b[01;32mautodiff_reverse_mode.jpeg\u001b[0m*          \u001b[01;34mtf_logs\u001b[0m/\n",
      " \u001b[34;42mdata\u001b[0m/\n"
     ]
    }
   ],
   "source": [
    "%ls"
   ]
  },
  {
   "cell_type": "code",
   "execution_count": 2,
   "id": "c18ba2f2-8a5a-47fc-819f-5d7f115528b3",
   "metadata": {},
   "outputs": [],
   "source": [
    "import neural_net"
   ]
  },
  {
   "cell_type": "markdown",
   "id": "56894736-dfb6-4fd6-9e0c-08595dcb9d28",
   "metadata": {},
   "source": [
    "# Initialization"
   ]
  },
  {
   "cell_type": "markdown",
   "id": "3c5bb7d4-6e14-40a6-b683-8b52b3d6b064",
   "metadata": {},
   "source": [
    "## Linear Layer"
   ]
  },
  {
   "cell_type": "code",
   "execution_count": 3,
   "id": "132f2401-424c-4917-947c-d926c886beb0",
   "metadata": {},
   "outputs": [],
   "source": [
    " fc = neural_net.layers.fullyconnected(n_in=2,n_out=6)"
   ]
  },
  {
   "cell_type": "code",
   "execution_count": 4,
   "id": "9b574faa-6687-43d8-8511-b35b94905201",
   "metadata": {},
   "outputs": [
    {
     "data": {
      "text/plain": [
       "'fullyconnected'"
      ]
     },
     "execution_count": 4,
     "metadata": {},
     "output_type": "execute_result"
    }
   ],
   "source": [
    "str(fc)"
   ]
  },
  {
   "cell_type": "code",
   "execution_count": 5,
   "id": "d22a5b0d-aea8-4deb-956c-34b771dc4918",
   "metadata": {},
   "outputs": [
    {
     "data": {
      "text/plain": [
       "{'id': 140481858776272,\n",
       " 'type': 'fullyconnected',\n",
       " 'self': <neural_net.layers.fullyconnected at 0x7fc47b4a2cd0>,\n",
       " 'n_in': 2,\n",
       " 'n_out': 6,\n",
       " 'init_method': <function neural_net.init_funcs.zeros(n_in, n_out=None, k=1)>}"
      ]
     },
     "execution_count": 5,
     "metadata": {},
     "output_type": "execute_result"
    }
   ],
   "source": [
    "fc.id"
   ]
  },
  {
   "cell_type": "code",
   "execution_count": 6,
   "id": "fb4c283e-a658-4bd8-baec-51f843bb3908",
   "metadata": {},
   "outputs": [
    {
     "data": {
      "text/plain": [
       "[<neural_net.activation_funcs.Σ at 0x7fc47b4a1f10>,\n",
       " <neural_net.activation_funcs.Σ at 0x7fc47b4a2c50>,\n",
       " <neural_net.activation_funcs.Σ at 0x7fc47b4a2e90>,\n",
       " <neural_net.activation_funcs.Σ at 0x7fc47b4a2ed0>,\n",
       " <neural_net.activation_funcs.Σ at 0x7fc47b4a2f10>,\n",
       " <neural_net.activation_funcs.Σ at 0x7fc47b4a2fd0>]"
      ]
     },
     "execution_count": 6,
     "metadata": {},
     "output_type": "execute_result"
    }
   ],
   "source": [
    "fc.outfuncs"
   ]
  },
  {
   "cell_type": "markdown",
   "id": "2363e565-a936-40fb-aa90-cdfa5e77dadb",
   "metadata": {},
   "source": [
    "## Linear neuron"
   ]
  },
  {
   "cell_type": "code",
   "execution_count": 7,
   "id": "eeb0a50f-7939-4f5f-acb9-32bc18116583",
   "metadata": {},
   "outputs": [
    {
     "data": {
      "text/plain": [
       "<neural_net.activation_funcs.Σ at 0x7fc47b4a1f10>"
      ]
     },
     "execution_count": 7,
     "metadata": {},
     "output_type": "execute_result"
    }
   ],
   "source": [
    "linear_neuron = fc.outfuncs[0]\n",
    "linear_neuron"
   ]
  },
  {
   "cell_type": "code",
   "execution_count": 8,
   "id": "3827914d-4e70-4311-a363-b8a15e0ba4c4",
   "metadata": {},
   "outputs": [
    {
     "data": {
      "text/plain": [
       "'Linear'"
      ]
     },
     "execution_count": 8,
     "metadata": {},
     "output_type": "execute_result"
    }
   ],
   "source": [
    "str(linear_neuron)"
   ]
  },
  {
   "cell_type": "code",
   "execution_count": 9,
   "id": "bebaa643-31cb-44b1-a7bf-2d08a132ac04",
   "metadata": {},
   "outputs": [
    {
     "data": {
      "text/plain": [
       "{'id': 140481858772752,\n",
       " 'type': 'Linear',\n",
       " 'self': <neural_net.activation_funcs.Σ at 0x7fc47b4a1f10>,\n",
       " 'layer': {'id': 140481858776272,\n",
       "  'type': 'fullyconnected',\n",
       "  'self': <neural_net.layers.fullyconnected at 0x7fc47b4a2cd0>,\n",
       "  'n_in': 2,\n",
       "  'n_out': 6,\n",
       "  'init_method': <function neural_net.init_funcs.zeros(n_in, n_out=None, k=1)>}}"
      ]
     },
     "execution_count": 9,
     "metadata": {},
     "output_type": "execute_result"
    }
   ],
   "source": [
    "linear_neuron.id"
   ]
  },
  {
   "cell_type": "code",
   "execution_count": 10,
   "id": "db7a1605-4472-465e-8389-53a07e2d8860",
   "metadata": {},
   "outputs": [
    {
     "data": {
      "text/plain": [
       "(3, 1)"
      ]
     },
     "execution_count": 10,
     "metadata": {},
     "output_type": "execute_result"
    }
   ],
   "source": [
    "linear_neuron.w.shape"
   ]
  },
  {
   "cell_type": "markdown",
   "id": "fa4d3e6d-e606-457c-b8fd-ad642d05bd20",
   "metadata": {},
   "source": [
    "## activation layer"
   ]
  },
  {
   "cell_type": "code",
   "execution_count": 11,
   "id": "735c66ad-e956-4173-8ced-7cbf6956ea47",
   "metadata": {},
   "outputs": [],
   "source": [
    "al = neural_net.layers.activation(n_in=6,func=neural_net.activation_funcs.σ)"
   ]
  },
  {
   "cell_type": "code",
   "execution_count": 12,
   "id": "6d6ee250-0355-4b7b-b084-26c3921ad2c5",
   "metadata": {},
   "outputs": [
    {
     "data": {
      "text/plain": [
       "[<neural_net.activation_funcs.σ at 0x7fc483f0b250>,\n",
       " <neural_net.activation_funcs.σ at 0x7fc47b4bb210>,\n",
       " <neural_net.activation_funcs.σ at 0x7fc47b4bba50>,\n",
       " <neural_net.activation_funcs.σ at 0x7fc47b4b93d0>,\n",
       " <neural_net.activation_funcs.σ at 0x7fc47b4c5790>,\n",
       " <neural_net.activation_funcs.σ at 0x7fc47b4c7610>]"
      ]
     },
     "execution_count": 12,
     "metadata": {},
     "output_type": "execute_result"
    }
   ],
   "source": [
    "al.outfuncs"
   ]
  },
  {
   "cell_type": "code",
   "execution_count": 13,
   "id": "86496900-bcb6-4c12-ba11-66b442d788ab",
   "metadata": {},
   "outputs": [
    {
     "data": {
      "text/plain": [
       "'activation'"
      ]
     },
     "execution_count": 13,
     "metadata": {},
     "output_type": "execute_result"
    }
   ],
   "source": [
    "str(al)"
   ]
  },
  {
   "cell_type": "markdown",
   "id": "e064e000-cf50-471d-8b30-baf4deacd1ca",
   "metadata": {},
   "source": [
    "## sigmoid neuron"
   ]
  },
  {
   "cell_type": "code",
   "execution_count": 14,
   "id": "7e18ab6f-c54f-4022-a49d-ffc10f953f3d",
   "metadata": {},
   "outputs": [
    {
     "data": {
      "text/plain": [
       "<neural_net.activation_funcs.σ at 0x7fc483f0b250>"
      ]
     },
     "execution_count": 14,
     "metadata": {},
     "output_type": "execute_result"
    }
   ],
   "source": [
    "sigmoid = al.outfuncs[0]\n",
    "sigmoid"
   ]
  },
  {
   "cell_type": "code",
   "execution_count": 15,
   "id": "2ec91bc8-d423-4f22-b113-c49e33f6451e",
   "metadata": {},
   "outputs": [
    {
     "data": {
      "text/plain": [
       "'sigmoid'"
      ]
     },
     "execution_count": 15,
     "metadata": {},
     "output_type": "execute_result"
    }
   ],
   "source": [
    "str(sigmoid)"
   ]
  },
  {
   "cell_type": "code",
   "execution_count": 16,
   "id": "2c20d4a1-665b-48b1-93d9-53937ffc7691",
   "metadata": {},
   "outputs": [
    {
     "data": {
      "text/plain": [
       "{'id': 140482003907152,\n",
       " 'type': 'sigmoid',\n",
       " 'self': <neural_net.activation_funcs.σ at 0x7fc483f0b250>,\n",
       " 'layer': {'id': 140482670892560,\n",
       "  'type': 'activation',\n",
       "  'self': <neural_net.layers.activation at 0x7fc4abb21610>,\n",
       "  'n_in': 6,\n",
       "  'func': neural_net.activation_funcs.σ,\n",
       "  'n_out': 6},\n",
       " 'cost_func': neural_net.loss.binaryCrossEntropy}"
      ]
     },
     "execution_count": 16,
     "metadata": {},
     "output_type": "execute_result"
    }
   ],
   "source": [
    "sigmoid.id"
   ]
  },
  {
   "cell_type": "markdown",
   "id": "c90edf62-ff77-45ba-a0c5-1692f7cab7bb",
   "metadata": {},
   "source": [
    "## Architecture"
   ]
  },
  {
   "cell_type": "code",
   "execution_count": 17,
   "id": "5fdac0f5-3f11-4cd8-be11-508f6831e8fe",
   "metadata": {},
   "outputs": [],
   "source": [
    "network = neural_net.architecture.Sequential(\n",
    "        [\n",
    "        neural_net.layers.fullyconnected(n_in=2,n_out=10),\n",
    "        neural_net.layers.activation(n_in=10,func=neural_net.activation_funcs.σ),\n",
    "        neural_net.layers.fullyconnected(n_in=10,n_out=1),\n",
    "        neural_net.layers.activation(n_in=1,func=neural_net.activation_funcs.σ)\n",
    "        ]\n",
    "    )"
   ]
  },
  {
   "cell_type": "code",
   "execution_count": 18,
   "id": "264040ae-2b03-4058-8ca2-a879607476b9",
   "metadata": {},
   "outputs": [
    {
     "data": {
      "text/plain": [
       "[<neural_net.layers.fullyconnected at 0x7fc4abb3ce90>,\n",
       " <neural_net.layers.activation at 0x7fc47b4e2450>,\n",
       " <neural_net.layers.fullyconnected at 0x7fc47b4e2810>,\n",
       " <neural_net.layers.activation at 0x7fc47b4e2910>]"
      ]
     },
     "execution_count": 18,
     "metadata": {},
     "output_type": "execute_result"
    }
   ],
   "source": [
    "network.steps"
   ]
  },
  {
   "cell_type": "code",
   "execution_count": 19,
   "id": "8562ca37-ab64-4ce4-8710-15a3fa069d27",
   "metadata": {},
   "outputs": [
    {
     "data": {
      "text/plain": [
       "[<neural_net.layers.fullyconnected at 0x7fc4abb3ce90>,\n",
       " <neural_net.layers.activation at 0x7fc47b4e2450>,\n",
       " <neural_net.layers.fullyconnected at 0x7fc47b4e2810>,\n",
       " <neural_net.layers.activation at 0x7fc47b4e2910>]"
      ]
     },
     "execution_count": 19,
     "metadata": {},
     "output_type": "execute_result"
    }
   ],
   "source": [
    "network.steps"
   ]
  },
  {
   "cell_type": "markdown",
   "id": "18acba72-3103-4726-9a0e-040405808468",
   "metadata": {},
   "source": [
    "## db"
   ]
  },
  {
   "cell_type": "code",
   "execution_count": 20,
   "id": "59dfee06-6bdd-4f72-ae2e-8136bf842d0a",
   "metadata": {},
   "outputs": [
    {
     "data": {
      "text/plain": [
       "<sqlite3.Connection at 0x7fc4abb1f970>"
      ]
     },
     "execution_count": 20,
     "metadata": {},
     "output_type": "execute_result"
    }
   ],
   "source": [
    "neural_net.db.DBmanager.con"
   ]
  },
  {
   "cell_type": "code",
   "execution_count": 21,
   "id": "f7ff55ec-50c3-41bf-b2b4-e0b4079444f3",
   "metadata": {},
   "outputs": [],
   "source": [
    "cursor = neural_net.db.DBmanager.con.cursor()"
   ]
  },
  {
   "cell_type": "code",
   "execution_count": 22,
   "id": "9d62aafd-1bef-40fd-87f6-813d5d4d0e1e",
   "metadata": {},
   "outputs": [
    {
     "name": "stderr",
     "output_type": "stream",
     "text": [
      "/tmp/ipykernel_6546/1787835217.py:1: DeprecationWarning: \n",
      "Pyarrow will become a required dependency of pandas in the next major release of pandas (pandas 3.0),\n",
      "(to allow more performant data types, such as the Arrow string type, and better interoperability with other libraries)\n",
      "but was not found to be installed on your system.\n",
      "If this would cause problems for you,\n",
      "please provide us feedback at https://github.com/pandas-dev/pandas/issues/54466\n",
      "        \n",
      "  import pandas\n"
     ]
    },
    {
     "data": {
      "text/html": [
       "<div>\n",
       "<style scoped>\n",
       "    .dataframe tbody tr th:only-of-type {\n",
       "        vertical-align: middle;\n",
       "    }\n",
       "\n",
       "    .dataframe tbody tr th {\n",
       "        vertical-align: top;\n",
       "    }\n",
       "\n",
       "    .dataframe thead th {\n",
       "        text-align: right;\n",
       "    }\n",
       "</style>\n",
       "<table border=\"1\" class=\"dataframe\">\n",
       "  <thead>\n",
       "    <tr style=\"text-align: right;\">\n",
       "      <th></th>\n",
       "      <th>0</th>\n",
       "      <th>1</th>\n",
       "      <th>2</th>\n",
       "      <th>3</th>\n",
       "      <th>4</th>\n",
       "    </tr>\n",
       "  </thead>\n",
       "  <tbody>\n",
       "    <tr>\n",
       "      <th>0</th>\n",
       "      <td>table</td>\n",
       "      <td>Neurons</td>\n",
       "      <td>Neurons</td>\n",
       "      <td>2</td>\n",
       "      <td>CREATE TABLE Neurons(\\n  id INTEGER PRIMARY KE...</td>\n",
       "    </tr>\n",
       "    <tr>\n",
       "      <th>1</th>\n",
       "      <td>table</td>\n",
       "      <td>sqlite_sequence</td>\n",
       "      <td>sqlite_sequence</td>\n",
       "      <td>3</td>\n",
       "      <td>CREATE TABLE sqlite_sequence(name,seq)</td>\n",
       "    </tr>\n",
       "    <tr>\n",
       "      <th>2</th>\n",
       "      <td>table</td>\n",
       "      <td>Layers</td>\n",
       "      <td>Layers</td>\n",
       "      <td>4</td>\n",
       "      <td>CREATE TABLE Layers(\\n  id INTEGER PRIMARY KEY...</td>\n",
       "    </tr>\n",
       "    <tr>\n",
       "      <th>3</th>\n",
       "      <td>table</td>\n",
       "      <td>Weights</td>\n",
       "      <td>Weights</td>\n",
       "      <td>5</td>\n",
       "      <td>CREATE TABLE Weights(\\n  id INTEGER PRIMARY KE...</td>\n",
       "    </tr>\n",
       "  </tbody>\n",
       "</table>\n",
       "</div>"
      ],
      "text/plain": [
       "       0                1                2  3  \\\n",
       "0  table          Neurons          Neurons  2   \n",
       "1  table  sqlite_sequence  sqlite_sequence  3   \n",
       "2  table           Layers           Layers  4   \n",
       "3  table          Weights          Weights  5   \n",
       "\n",
       "                                                   4  \n",
       "0  CREATE TABLE Neurons(\\n  id INTEGER PRIMARY KE...  \n",
       "1             CREATE TABLE sqlite_sequence(name,seq)  \n",
       "2  CREATE TABLE Layers(\\n  id INTEGER PRIMARY KEY...  \n",
       "3  CREATE TABLE Weights(\\n  id INTEGER PRIMARY KE...  "
      ]
     },
     "execution_count": 22,
     "metadata": {},
     "output_type": "execute_result"
    }
   ],
   "source": [
    "import pandas\n",
    "res = cursor.execute('''\n",
    "\n",
    "        SELECT * \n",
    "        FROM\n",
    "        sqlite_schema\n",
    "\n",
    "''')\n",
    "pandas.DataFrame(res.fetchall())"
   ]
  },
  {
   "cell_type": "markdown",
   "id": "98c37c3e-07ea-49b9-98ae-46b116129fdc",
   "metadata": {},
   "source": [
    "# Predicting"
   ]
  },
  {
   "cell_type": "code",
   "execution_count": 23,
   "id": "9d5d133d-d8d8-492b-bf4b-cd88705af197",
   "metadata": {},
   "outputs": [],
   "source": [
    "import numpy\n",
    "X = numpy.random.uniform(size=(100,2))"
   ]
  },
  {
   "cell_type": "markdown",
   "id": "ceea8986-dca2-4418-981f-ad88a7d62d56",
   "metadata": {},
   "source": [
    "## Linear Layer"
   ]
  },
  {
   "cell_type": "code",
   "execution_count": 24,
   "id": "ba082425-d00f-421a-8b0c-e254403ad606",
   "metadata": {},
   "outputs": [
    {
     "data": {
      "text/plain": [
       "<neural_net.layers.fullyconnected at 0x7fc4abb3ce90>"
      ]
     },
     "execution_count": 24,
     "metadata": {},
     "output_type": "execute_result"
    }
   ],
   "source": [
    "network.steps[0]"
   ]
  },
  {
   "cell_type": "markdown",
   "id": "7f76fedf-bed7-45c1-a0dd-326c2cf6a2a6",
   "metadata": {},
   "source": [
    "### Feeding input"
   ]
  },
  {
   "cell_type": "code",
   "execution_count": 25,
   "id": "0bdf7122-cb3a-4e78-bfa2-e607426e73f8",
   "metadata": {},
   "outputs": [],
   "source": [
    "network.steps[0].In = [(id(X),X)]"
   ]
  },
  {
   "cell_type": "code",
   "execution_count": 26,
   "id": "ac2f1be5-cb34-45b2-aa88-1b96b903bfa4",
   "metadata": {
    "scrolled": true
   },
   "outputs": [
    {
     "data": {
      "text/plain": [
       "{140481821949072: array([[0.61183204, 0.25864146],\n",
       "        [0.00427055, 0.7219295 ],\n",
       "        [0.98715005, 0.07457472],\n",
       "        [0.55221021, 0.51684309],\n",
       "        [0.51030022, 0.30104994],\n",
       "        [0.00670302, 0.79974036],\n",
       "        [0.92691262, 0.99204894],\n",
       "        [0.89263346, 0.47152836],\n",
       "        [0.72429403, 0.2922354 ],\n",
       "        [0.008886  , 0.9296316 ],\n",
       "        [0.98984043, 0.83212944],\n",
       "        [0.61929516, 0.30886565],\n",
       "        [0.48874785, 0.84772457],\n",
       "        [0.57869179, 0.38103997],\n",
       "        [0.6044169 , 0.26634335],\n",
       "        [0.56172201, 0.85787071],\n",
       "        [0.43807505, 0.79229658],\n",
       "        [0.94977077, 0.46881518],\n",
       "        [0.31494937, 0.00588117],\n",
       "        [0.84557269, 0.77619113],\n",
       "        [0.67117513, 0.83323653],\n",
       "        [0.48472175, 0.22201346],\n",
       "        [0.07239986, 0.42543849],\n",
       "        [0.45046313, 0.34770211],\n",
       "        [0.33832241, 0.09270656],\n",
       "        [0.79190069, 0.76892296],\n",
       "        [0.25344568, 0.17712872],\n",
       "        [0.84142719, 0.03073598],\n",
       "        [0.47323836, 0.92586002],\n",
       "        [0.69183897, 0.34042178],\n",
       "        [0.54558861, 0.18665575],\n",
       "        [0.11713604, 0.20873698],\n",
       "        [0.53102034, 0.06423438],\n",
       "        [0.24771393, 0.97217754],\n",
       "        [0.09010498, 0.64172704],\n",
       "        [0.57555196, 0.85728528],\n",
       "        [0.00356323, 0.49729339],\n",
       "        [0.55440719, 0.41249739],\n",
       "        [0.55152643, 0.84493555],\n",
       "        [0.40230038, 0.60553983],\n",
       "        [0.19089433, 0.17775137],\n",
       "        [0.25187597, 0.505361  ],\n",
       "        [0.26922333, 0.36299349],\n",
       "        [0.40534619, 0.25176699],\n",
       "        [0.39864961, 0.57381899],\n",
       "        [0.90434048, 0.08950497],\n",
       "        [0.1537762 , 0.54789515],\n",
       "        [0.26398942, 0.72856055],\n",
       "        [0.64236138, 0.59130579],\n",
       "        [0.58080636, 0.64001767],\n",
       "        [0.37337848, 0.31395794],\n",
       "        [0.2825079 , 0.45703386],\n",
       "        [0.23139301, 0.76378794],\n",
       "        [0.72272936, 0.60628531],\n",
       "        [0.08438151, 0.53351064],\n",
       "        [0.82929866, 0.46068251],\n",
       "        [0.44994819, 0.98917263],\n",
       "        [0.30177206, 0.00278555],\n",
       "        [0.69333352, 0.34544153],\n",
       "        [0.68550731, 0.79742621],\n",
       "        [0.33250615, 0.91751884],\n",
       "        [0.59712871, 0.38350833],\n",
       "        [0.61009829, 0.10578387],\n",
       "        [0.42257387, 0.16036606],\n",
       "        [0.05919574, 0.40344552],\n",
       "        [0.11032155, 0.24553142],\n",
       "        [0.28891912, 0.60616306],\n",
       "        [0.16273184, 0.73079135],\n",
       "        [0.75535683, 0.07020634],\n",
       "        [0.05653411, 0.38162019],\n",
       "        [0.7187211 , 0.81777469],\n",
       "        [0.59434776, 0.15988768],\n",
       "        [0.82517874, 0.00670556],\n",
       "        [0.28677419, 0.86015879],\n",
       "        [0.87212539, 0.93196743],\n",
       "        [0.84970335, 0.98390136],\n",
       "        [0.83535866, 0.0938554 ],\n",
       "        [0.36765225, 0.71287741],\n",
       "        [0.03878881, 0.68458093],\n",
       "        [0.93037535, 0.28916254],\n",
       "        [0.42449468, 0.79752585],\n",
       "        [0.42557948, 0.03913377],\n",
       "        [0.42768947, 0.54651844],\n",
       "        [0.88503368, 0.56669874],\n",
       "        [0.39814681, 0.42630671],\n",
       "        [0.63231011, 0.046849  ],\n",
       "        [0.98192667, 0.67896716],\n",
       "        [0.87973276, 0.49798932],\n",
       "        [0.0782408 , 0.84427585],\n",
       "        [0.59430002, 0.59190616],\n",
       "        [0.96862607, 0.87964473],\n",
       "        [0.56554687, 0.12600825],\n",
       "        [0.7280415 , 0.55447965],\n",
       "        [0.8352075 , 0.65104744],\n",
       "        [0.40731739, 0.38103586],\n",
       "        [0.95401363, 0.52145609],\n",
       "        [0.97988337, 0.97551544],\n",
       "        [0.07202871, 0.059992  ],\n",
       "        [0.55748111, 0.94273988],\n",
       "        [0.70673342, 0.42972043]])}"
      ]
     },
     "execution_count": 26,
     "metadata": {},
     "output_type": "execute_result"
    }
   ],
   "source": [
    "network.steps[0].In"
   ]
  },
  {
   "cell_type": "code",
   "execution_count": 27,
   "id": "8e803bc9-19eb-4e7b-b134-99a3e16f7295",
   "metadata": {},
   "outputs": [
    {
     "data": {
      "text/plain": [
       "[<neural_net.activation_funcs.Σ at 0x7fc47b4cce10>,\n",
       " <neural_net.activation_funcs.Σ at 0x7fc47b4c44d0>,\n",
       " <neural_net.activation_funcs.Σ at 0x7fc4a82cb750>,\n",
       " <neural_net.activation_funcs.Σ at 0x7fc47b4e21d0>,\n",
       " <neural_net.activation_funcs.Σ at 0x7fc47b4e2150>,\n",
       " <neural_net.activation_funcs.Σ at 0x7fc47b4e2350>,\n",
       " <neural_net.activation_funcs.Σ at 0x7fc47b4e2390>,\n",
       " <neural_net.activation_funcs.Σ at 0x7fc47b4e23d0>,\n",
       " <neural_net.activation_funcs.Σ at 0x7fc47b4e2410>,\n",
       " <neural_net.activation_funcs.Σ at 0x7fc47b4e2310>]"
      ]
     },
     "execution_count": 27,
     "metadata": {},
     "output_type": "execute_result"
    }
   ],
   "source": [
    "network.steps[0].outfuncs"
   ]
  },
  {
   "cell_type": "code",
   "execution_count": 28,
   "id": "d80f7db0-f5fa-47ad-bf9c-1f3a4adae20f",
   "metadata": {},
   "outputs": [
    {
     "data": {
      "text/plain": [
       "<neural_net.activation_funcs.Σ at 0x7fc47b4cce10>"
      ]
     },
     "execution_count": 28,
     "metadata": {},
     "output_type": "execute_result"
    }
   ],
   "source": [
    "network.steps[0].outfuncs[0]"
   ]
  },
  {
   "cell_type": "code",
   "execution_count": 29,
   "id": "30246e92-0727-4eec-a96a-7d3be05cacdc",
   "metadata": {
    "scrolled": true
   },
   "outputs": [
    {
     "data": {
      "text/plain": [
       "((140481821949072,),\n",
       " array([[0.61183204, 0.25864146],\n",
       "        [0.00427055, 0.7219295 ],\n",
       "        [0.98715005, 0.07457472],\n",
       "        [0.55221021, 0.51684309],\n",
       "        [0.51030022, 0.30104994],\n",
       "        [0.00670302, 0.79974036],\n",
       "        [0.92691262, 0.99204894],\n",
       "        [0.89263346, 0.47152836],\n",
       "        [0.72429403, 0.2922354 ],\n",
       "        [0.008886  , 0.9296316 ],\n",
       "        [0.98984043, 0.83212944],\n",
       "        [0.61929516, 0.30886565],\n",
       "        [0.48874785, 0.84772457],\n",
       "        [0.57869179, 0.38103997],\n",
       "        [0.6044169 , 0.26634335],\n",
       "        [0.56172201, 0.85787071],\n",
       "        [0.43807505, 0.79229658],\n",
       "        [0.94977077, 0.46881518],\n",
       "        [0.31494937, 0.00588117],\n",
       "        [0.84557269, 0.77619113],\n",
       "        [0.67117513, 0.83323653],\n",
       "        [0.48472175, 0.22201346],\n",
       "        [0.07239986, 0.42543849],\n",
       "        [0.45046313, 0.34770211],\n",
       "        [0.33832241, 0.09270656],\n",
       "        [0.79190069, 0.76892296],\n",
       "        [0.25344568, 0.17712872],\n",
       "        [0.84142719, 0.03073598],\n",
       "        [0.47323836, 0.92586002],\n",
       "        [0.69183897, 0.34042178],\n",
       "        [0.54558861, 0.18665575],\n",
       "        [0.11713604, 0.20873698],\n",
       "        [0.53102034, 0.06423438],\n",
       "        [0.24771393, 0.97217754],\n",
       "        [0.09010498, 0.64172704],\n",
       "        [0.57555196, 0.85728528],\n",
       "        [0.00356323, 0.49729339],\n",
       "        [0.55440719, 0.41249739],\n",
       "        [0.55152643, 0.84493555],\n",
       "        [0.40230038, 0.60553983],\n",
       "        [0.19089433, 0.17775137],\n",
       "        [0.25187597, 0.505361  ],\n",
       "        [0.26922333, 0.36299349],\n",
       "        [0.40534619, 0.25176699],\n",
       "        [0.39864961, 0.57381899],\n",
       "        [0.90434048, 0.08950497],\n",
       "        [0.1537762 , 0.54789515],\n",
       "        [0.26398942, 0.72856055],\n",
       "        [0.64236138, 0.59130579],\n",
       "        [0.58080636, 0.64001767],\n",
       "        [0.37337848, 0.31395794],\n",
       "        [0.2825079 , 0.45703386],\n",
       "        [0.23139301, 0.76378794],\n",
       "        [0.72272936, 0.60628531],\n",
       "        [0.08438151, 0.53351064],\n",
       "        [0.82929866, 0.46068251],\n",
       "        [0.44994819, 0.98917263],\n",
       "        [0.30177206, 0.00278555],\n",
       "        [0.69333352, 0.34544153],\n",
       "        [0.68550731, 0.79742621],\n",
       "        [0.33250615, 0.91751884],\n",
       "        [0.59712871, 0.38350833],\n",
       "        [0.61009829, 0.10578387],\n",
       "        [0.42257387, 0.16036606],\n",
       "        [0.05919574, 0.40344552],\n",
       "        [0.11032155, 0.24553142],\n",
       "        [0.28891912, 0.60616306],\n",
       "        [0.16273184, 0.73079135],\n",
       "        [0.75535683, 0.07020634],\n",
       "        [0.05653411, 0.38162019],\n",
       "        [0.7187211 , 0.81777469],\n",
       "        [0.59434776, 0.15988768],\n",
       "        [0.82517874, 0.00670556],\n",
       "        [0.28677419, 0.86015879],\n",
       "        [0.87212539, 0.93196743],\n",
       "        [0.84970335, 0.98390136],\n",
       "        [0.83535866, 0.0938554 ],\n",
       "        [0.36765225, 0.71287741],\n",
       "        [0.03878881, 0.68458093],\n",
       "        [0.93037535, 0.28916254],\n",
       "        [0.42449468, 0.79752585],\n",
       "        [0.42557948, 0.03913377],\n",
       "        [0.42768947, 0.54651844],\n",
       "        [0.88503368, 0.56669874],\n",
       "        [0.39814681, 0.42630671],\n",
       "        [0.63231011, 0.046849  ],\n",
       "        [0.98192667, 0.67896716],\n",
       "        [0.87973276, 0.49798932],\n",
       "        [0.0782408 , 0.84427585],\n",
       "        [0.59430002, 0.59190616],\n",
       "        [0.96862607, 0.87964473],\n",
       "        [0.56554687, 0.12600825],\n",
       "        [0.7280415 , 0.55447965],\n",
       "        [0.8352075 , 0.65104744],\n",
       "        [0.40731739, 0.38103586],\n",
       "        [0.95401363, 0.52145609],\n",
       "        [0.97988337, 0.97551544],\n",
       "        [0.07202871, 0.059992  ],\n",
       "        [0.55748111, 0.94273988],\n",
       "        [0.70673342, 0.42972043]]))"
      ]
     },
     "execution_count": 29,
     "metadata": {},
     "output_type": "execute_result"
    }
   ],
   "source": [
    "network.steps[0].outfuncs[0].In"
   ]
  },
  {
   "cell_type": "markdown",
   "id": "9c418100-e4b2-4ca1-a551-15a9d920310e",
   "metadata": {},
   "source": [
    "### Db layers"
   ]
  },
  {
   "cell_type": "code",
   "execution_count": 30,
   "id": "0b9179c7-1985-44be-8670-e56ab7065305",
   "metadata": {},
   "outputs": [
    {
     "data": {
      "text/html": [
       "<div>\n",
       "<style scoped>\n",
       "    .dataframe tbody tr th:only-of-type {\n",
       "        vertical-align: middle;\n",
       "    }\n",
       "\n",
       "    .dataframe tbody tr th {\n",
       "        vertical-align: top;\n",
       "    }\n",
       "\n",
       "    .dataframe thead th {\n",
       "        text-align: right;\n",
       "    }\n",
       "</style>\n",
       "<table border=\"1\" class=\"dataframe\">\n",
       "  <thead>\n",
       "    <tr style=\"text-align: right;\">\n",
       "      <th></th>\n",
       "      <th>0</th>\n",
       "      <th>1</th>\n",
       "      <th>2</th>\n",
       "      <th>3</th>\n",
       "      <th>4</th>\n",
       "      <th>5</th>\n",
       "    </tr>\n",
       "  </thead>\n",
       "  <tbody>\n",
       "    <tr>\n",
       "      <th>0</th>\n",
       "      <td>1</td>\n",
       "      <td>140482671005328</td>\n",
       "      <td>10</td>\n",
       "      <td>2024-02-20 23:38:12</td>\n",
       "      <td>2024-02-20 23:38:12</td>\n",
       "      <td>fullyconnected</td>\n",
       "    </tr>\n",
       "  </tbody>\n",
       "</table>\n",
       "</div>"
      ],
      "text/plain": [
       "   0                1   2                    3                    4  \\\n",
       "0  1  140482671005328  10  2024-02-20 23:38:12  2024-02-20 23:38:12   \n",
       "\n",
       "                5  \n",
       "0  fullyconnected  "
      ]
     },
     "execution_count": 30,
     "metadata": {},
     "output_type": "execute_result"
    }
   ],
   "source": [
    "res = cursor.execute('''\n",
    "\n",
    "        SELECT * \n",
    "        FROM\n",
    "        layers\n",
    "\n",
    "''')\n",
    "pandas.DataFrame(res.fetchall())"
   ]
  },
  {
   "cell_type": "markdown",
   "id": "85f5f279-9506-408a-8ec9-2df8a0dcdb3b",
   "metadata": {},
   "source": [
    "### Neurons"
   ]
  },
  {
   "cell_type": "code",
   "execution_count": 31,
   "id": "e472bc37-977a-44bd-b421-2b11b9403e87",
   "metadata": {},
   "outputs": [
    {
     "data": {
      "text/html": [
       "<div>\n",
       "<style scoped>\n",
       "    .dataframe tbody tr th:only-of-type {\n",
       "        vertical-align: middle;\n",
       "    }\n",
       "\n",
       "    .dataframe tbody tr th {\n",
       "        vertical-align: top;\n",
       "    }\n",
       "\n",
       "    .dataframe thead th {\n",
       "        text-align: right;\n",
       "    }\n",
       "</style>\n",
       "<table border=\"1\" class=\"dataframe\">\n",
       "  <thead>\n",
       "    <tr style=\"text-align: right;\">\n",
       "      <th></th>\n",
       "      <th>0</th>\n",
       "      <th>1</th>\n",
       "      <th>2</th>\n",
       "      <th>3</th>\n",
       "      <th>4</th>\n",
       "      <th>5</th>\n",
       "    </tr>\n",
       "  </thead>\n",
       "  <tbody>\n",
       "    <tr>\n",
       "      <th>0</th>\n",
       "      <td>1</td>\n",
       "      <td>140481858948624</td>\n",
       "      <td>140482671005328</td>\n",
       "      <td>2024-02-20 23:38:12</td>\n",
       "      <td>2024-02-20 23:38:12</td>\n",
       "      <td>Linear</td>\n",
       "    </tr>\n",
       "    <tr>\n",
       "      <th>1</th>\n",
       "      <td>2</td>\n",
       "      <td>140481858913488</td>\n",
       "      <td>140482671005328</td>\n",
       "      <td>2024-02-20 23:38:12</td>\n",
       "      <td>2024-02-20 23:38:12</td>\n",
       "      <td>Linear</td>\n",
       "    </tr>\n",
       "    <tr>\n",
       "      <th>2</th>\n",
       "      <td>3</td>\n",
       "      <td>140482611820368</td>\n",
       "      <td>140482671005328</td>\n",
       "      <td>2024-02-20 23:38:12</td>\n",
       "      <td>2024-02-20 23:38:12</td>\n",
       "      <td>Linear</td>\n",
       "    </tr>\n",
       "    <tr>\n",
       "      <th>3</th>\n",
       "      <td>4</td>\n",
       "      <td>140481859035600</td>\n",
       "      <td>140482671005328</td>\n",
       "      <td>2024-02-20 23:38:12</td>\n",
       "      <td>2024-02-20 23:38:12</td>\n",
       "      <td>Linear</td>\n",
       "    </tr>\n",
       "    <tr>\n",
       "      <th>4</th>\n",
       "      <td>5</td>\n",
       "      <td>140481859035472</td>\n",
       "      <td>140482671005328</td>\n",
       "      <td>2024-02-20 23:38:12</td>\n",
       "      <td>2024-02-20 23:38:12</td>\n",
       "      <td>Linear</td>\n",
       "    </tr>\n",
       "    <tr>\n",
       "      <th>5</th>\n",
       "      <td>6</td>\n",
       "      <td>140481859035984</td>\n",
       "      <td>140482671005328</td>\n",
       "      <td>2024-02-20 23:38:13</td>\n",
       "      <td>2024-02-20 23:38:13</td>\n",
       "      <td>Linear</td>\n",
       "    </tr>\n",
       "    <tr>\n",
       "      <th>6</th>\n",
       "      <td>7</td>\n",
       "      <td>140481859036048</td>\n",
       "      <td>140482671005328</td>\n",
       "      <td>2024-02-20 23:38:13</td>\n",
       "      <td>2024-02-20 23:38:13</td>\n",
       "      <td>Linear</td>\n",
       "    </tr>\n",
       "    <tr>\n",
       "      <th>7</th>\n",
       "      <td>8</td>\n",
       "      <td>140481859036112</td>\n",
       "      <td>140482671005328</td>\n",
       "      <td>2024-02-20 23:38:13</td>\n",
       "      <td>2024-02-20 23:38:13</td>\n",
       "      <td>Linear</td>\n",
       "    </tr>\n",
       "    <tr>\n",
       "      <th>8</th>\n",
       "      <td>9</td>\n",
       "      <td>140481859036176</td>\n",
       "      <td>140482671005328</td>\n",
       "      <td>2024-02-20 23:38:13</td>\n",
       "      <td>2024-02-20 23:38:13</td>\n",
       "      <td>Linear</td>\n",
       "    </tr>\n",
       "    <tr>\n",
       "      <th>9</th>\n",
       "      <td>10</td>\n",
       "      <td>140481859035920</td>\n",
       "      <td>140482671005328</td>\n",
       "      <td>2024-02-20 23:38:13</td>\n",
       "      <td>2024-02-20 23:38:13</td>\n",
       "      <td>Linear</td>\n",
       "    </tr>\n",
       "  </tbody>\n",
       "</table>\n",
       "</div>"
      ],
      "text/plain": [
       "    0                1                2                    3  \\\n",
       "0   1  140481858948624  140482671005328  2024-02-20 23:38:12   \n",
       "1   2  140481858913488  140482671005328  2024-02-20 23:38:12   \n",
       "2   3  140482611820368  140482671005328  2024-02-20 23:38:12   \n",
       "3   4  140481859035600  140482671005328  2024-02-20 23:38:12   \n",
       "4   5  140481859035472  140482671005328  2024-02-20 23:38:12   \n",
       "5   6  140481859035984  140482671005328  2024-02-20 23:38:13   \n",
       "6   7  140481859036048  140482671005328  2024-02-20 23:38:13   \n",
       "7   8  140481859036112  140482671005328  2024-02-20 23:38:13   \n",
       "8   9  140481859036176  140482671005328  2024-02-20 23:38:13   \n",
       "9  10  140481859035920  140482671005328  2024-02-20 23:38:13   \n",
       "\n",
       "                     4       5  \n",
       "0  2024-02-20 23:38:12  Linear  \n",
       "1  2024-02-20 23:38:12  Linear  \n",
       "2  2024-02-20 23:38:12  Linear  \n",
       "3  2024-02-20 23:38:12  Linear  \n",
       "4  2024-02-20 23:38:12  Linear  \n",
       "5  2024-02-20 23:38:13  Linear  \n",
       "6  2024-02-20 23:38:13  Linear  \n",
       "7  2024-02-20 23:38:13  Linear  \n",
       "8  2024-02-20 23:38:13  Linear  \n",
       "9  2024-02-20 23:38:13  Linear  "
      ]
     },
     "execution_count": 31,
     "metadata": {},
     "output_type": "execute_result"
    }
   ],
   "source": [
    "res = cursor.execute('''\n",
    "\n",
    "        SELECT * \n",
    "        FROM\n",
    "        neurons\n",
    "\n",
    "''')\n",
    "pandas.DataFrame(res.fetchall())"
   ]
  },
  {
   "cell_type": "markdown",
   "id": "bd65734f-a5f9-4778-91ae-1cff21a12c97",
   "metadata": {},
   "source": [
    "### Weights"
   ]
  },
  {
   "cell_type": "code",
   "execution_count": 32,
   "id": "b61ab1fe-748b-4d4b-90b7-c1acbefe6cf4",
   "metadata": {},
   "outputs": [
    {
     "data": {
      "text/html": [
       "<div>\n",
       "<style scoped>\n",
       "    .dataframe tbody tr th:only-of-type {\n",
       "        vertical-align: middle;\n",
       "    }\n",
       "\n",
       "    .dataframe tbody tr th {\n",
       "        vertical-align: top;\n",
       "    }\n",
       "\n",
       "    .dataframe thead th {\n",
       "        text-align: right;\n",
       "    }\n",
       "</style>\n",
       "<table border=\"1\" class=\"dataframe\">\n",
       "  <thead>\n",
       "    <tr style=\"text-align: right;\">\n",
       "      <th></th>\n",
       "      <th>0</th>\n",
       "      <th>1</th>\n",
       "      <th>2</th>\n",
       "      <th>3</th>\n",
       "      <th>4</th>\n",
       "      <th>5</th>\n",
       "    </tr>\n",
       "  </thead>\n",
       "  <tbody>\n",
       "    <tr>\n",
       "      <th>0</th>\n",
       "      <td>1</td>\n",
       "      <td>0</td>\n",
       "      <td>140481858948624</td>\n",
       "      <td>2024-02-20 23:38:12</td>\n",
       "      <td>2024-02-20 23:38:12</td>\n",
       "      <td>0.0</td>\n",
       "    </tr>\n",
       "    <tr>\n",
       "      <th>1</th>\n",
       "      <td>2</td>\n",
       "      <td>1</td>\n",
       "      <td>140481858948624</td>\n",
       "      <td>2024-02-20 23:38:12</td>\n",
       "      <td>2024-02-20 23:38:12</td>\n",
       "      <td>0.0</td>\n",
       "    </tr>\n",
       "    <tr>\n",
       "      <th>2</th>\n",
       "      <td>3</td>\n",
       "      <td>2</td>\n",
       "      <td>140481858948624</td>\n",
       "      <td>2024-02-20 23:38:12</td>\n",
       "      <td>2024-02-20 23:38:12</td>\n",
       "      <td>0.0</td>\n",
       "    </tr>\n",
       "    <tr>\n",
       "      <th>3</th>\n",
       "      <td>4</td>\n",
       "      <td>0</td>\n",
       "      <td>140481858913488</td>\n",
       "      <td>2024-02-20 23:38:12</td>\n",
       "      <td>2024-02-20 23:38:12</td>\n",
       "      <td>0.0</td>\n",
       "    </tr>\n",
       "    <tr>\n",
       "      <th>4</th>\n",
       "      <td>5</td>\n",
       "      <td>1</td>\n",
       "      <td>140481858913488</td>\n",
       "      <td>2024-02-20 23:38:12</td>\n",
       "      <td>2024-02-20 23:38:12</td>\n",
       "      <td>0.0</td>\n",
       "    </tr>\n",
       "    <tr>\n",
       "      <th>5</th>\n",
       "      <td>6</td>\n",
       "      <td>2</td>\n",
       "      <td>140481858913488</td>\n",
       "      <td>2024-02-20 23:38:12</td>\n",
       "      <td>2024-02-20 23:38:12</td>\n",
       "      <td>0.0</td>\n",
       "    </tr>\n",
       "    <tr>\n",
       "      <th>6</th>\n",
       "      <td>7</td>\n",
       "      <td>0</td>\n",
       "      <td>140482611820368</td>\n",
       "      <td>2024-02-20 23:38:12</td>\n",
       "      <td>2024-02-20 23:38:12</td>\n",
       "      <td>0.0</td>\n",
       "    </tr>\n",
       "    <tr>\n",
       "      <th>7</th>\n",
       "      <td>8</td>\n",
       "      <td>1</td>\n",
       "      <td>140482611820368</td>\n",
       "      <td>2024-02-20 23:38:12</td>\n",
       "      <td>2024-02-20 23:38:12</td>\n",
       "      <td>0.0</td>\n",
       "    </tr>\n",
       "    <tr>\n",
       "      <th>8</th>\n",
       "      <td>9</td>\n",
       "      <td>2</td>\n",
       "      <td>140482611820368</td>\n",
       "      <td>2024-02-20 23:38:12</td>\n",
       "      <td>2024-02-20 23:38:12</td>\n",
       "      <td>0.0</td>\n",
       "    </tr>\n",
       "    <tr>\n",
       "      <th>9</th>\n",
       "      <td>10</td>\n",
       "      <td>0</td>\n",
       "      <td>140481859035600</td>\n",
       "      <td>2024-02-20 23:38:12</td>\n",
       "      <td>2024-02-20 23:38:12</td>\n",
       "      <td>0.0</td>\n",
       "    </tr>\n",
       "    <tr>\n",
       "      <th>10</th>\n",
       "      <td>11</td>\n",
       "      <td>1</td>\n",
       "      <td>140481859035600</td>\n",
       "      <td>2024-02-20 23:38:12</td>\n",
       "      <td>2024-02-20 23:38:12</td>\n",
       "      <td>0.0</td>\n",
       "    </tr>\n",
       "    <tr>\n",
       "      <th>11</th>\n",
       "      <td>12</td>\n",
       "      <td>2</td>\n",
       "      <td>140481859035600</td>\n",
       "      <td>2024-02-20 23:38:12</td>\n",
       "      <td>2024-02-20 23:38:12</td>\n",
       "      <td>0.0</td>\n",
       "    </tr>\n",
       "    <tr>\n",
       "      <th>12</th>\n",
       "      <td>13</td>\n",
       "      <td>0</td>\n",
       "      <td>140481859035472</td>\n",
       "      <td>2024-02-20 23:38:12</td>\n",
       "      <td>2024-02-20 23:38:12</td>\n",
       "      <td>0.0</td>\n",
       "    </tr>\n",
       "    <tr>\n",
       "      <th>13</th>\n",
       "      <td>14</td>\n",
       "      <td>1</td>\n",
       "      <td>140481859035472</td>\n",
       "      <td>2024-02-20 23:38:12</td>\n",
       "      <td>2024-02-20 23:38:12</td>\n",
       "      <td>0.0</td>\n",
       "    </tr>\n",
       "    <tr>\n",
       "      <th>14</th>\n",
       "      <td>15</td>\n",
       "      <td>2</td>\n",
       "      <td>140481859035472</td>\n",
       "      <td>2024-02-20 23:38:12</td>\n",
       "      <td>2024-02-20 23:38:12</td>\n",
       "      <td>0.0</td>\n",
       "    </tr>\n",
       "    <tr>\n",
       "      <th>15</th>\n",
       "      <td>16</td>\n",
       "      <td>0</td>\n",
       "      <td>140481859035984</td>\n",
       "      <td>2024-02-20 23:38:13</td>\n",
       "      <td>2024-02-20 23:38:13</td>\n",
       "      <td>0.0</td>\n",
       "    </tr>\n",
       "    <tr>\n",
       "      <th>16</th>\n",
       "      <td>17</td>\n",
       "      <td>1</td>\n",
       "      <td>140481859035984</td>\n",
       "      <td>2024-02-20 23:38:13</td>\n",
       "      <td>2024-02-20 23:38:13</td>\n",
       "      <td>0.0</td>\n",
       "    </tr>\n",
       "    <tr>\n",
       "      <th>17</th>\n",
       "      <td>18</td>\n",
       "      <td>2</td>\n",
       "      <td>140481859035984</td>\n",
       "      <td>2024-02-20 23:38:13</td>\n",
       "      <td>2024-02-20 23:38:13</td>\n",
       "      <td>0.0</td>\n",
       "    </tr>\n",
       "    <tr>\n",
       "      <th>18</th>\n",
       "      <td>19</td>\n",
       "      <td>0</td>\n",
       "      <td>140481859036048</td>\n",
       "      <td>2024-02-20 23:38:13</td>\n",
       "      <td>2024-02-20 23:38:13</td>\n",
       "      <td>0.0</td>\n",
       "    </tr>\n",
       "    <tr>\n",
       "      <th>19</th>\n",
       "      <td>20</td>\n",
       "      <td>1</td>\n",
       "      <td>140481859036048</td>\n",
       "      <td>2024-02-20 23:38:13</td>\n",
       "      <td>2024-02-20 23:38:13</td>\n",
       "      <td>0.0</td>\n",
       "    </tr>\n",
       "    <tr>\n",
       "      <th>20</th>\n",
       "      <td>21</td>\n",
       "      <td>2</td>\n",
       "      <td>140481859036048</td>\n",
       "      <td>2024-02-20 23:38:13</td>\n",
       "      <td>2024-02-20 23:38:13</td>\n",
       "      <td>0.0</td>\n",
       "    </tr>\n",
       "    <tr>\n",
       "      <th>21</th>\n",
       "      <td>22</td>\n",
       "      <td>0</td>\n",
       "      <td>140481859036112</td>\n",
       "      <td>2024-02-20 23:38:13</td>\n",
       "      <td>2024-02-20 23:38:13</td>\n",
       "      <td>0.0</td>\n",
       "    </tr>\n",
       "    <tr>\n",
       "      <th>22</th>\n",
       "      <td>23</td>\n",
       "      <td>1</td>\n",
       "      <td>140481859036112</td>\n",
       "      <td>2024-02-20 23:38:13</td>\n",
       "      <td>2024-02-20 23:38:13</td>\n",
       "      <td>0.0</td>\n",
       "    </tr>\n",
       "    <tr>\n",
       "      <th>23</th>\n",
       "      <td>24</td>\n",
       "      <td>2</td>\n",
       "      <td>140481859036112</td>\n",
       "      <td>2024-02-20 23:38:13</td>\n",
       "      <td>2024-02-20 23:38:13</td>\n",
       "      <td>0.0</td>\n",
       "    </tr>\n",
       "    <tr>\n",
       "      <th>24</th>\n",
       "      <td>25</td>\n",
       "      <td>0</td>\n",
       "      <td>140481859036176</td>\n",
       "      <td>2024-02-20 23:38:13</td>\n",
       "      <td>2024-02-20 23:38:13</td>\n",
       "      <td>0.0</td>\n",
       "    </tr>\n",
       "    <tr>\n",
       "      <th>25</th>\n",
       "      <td>26</td>\n",
       "      <td>1</td>\n",
       "      <td>140481859036176</td>\n",
       "      <td>2024-02-20 23:38:13</td>\n",
       "      <td>2024-02-20 23:38:13</td>\n",
       "      <td>0.0</td>\n",
       "    </tr>\n",
       "    <tr>\n",
       "      <th>26</th>\n",
       "      <td>27</td>\n",
       "      <td>2</td>\n",
       "      <td>140481859036176</td>\n",
       "      <td>2024-02-20 23:38:13</td>\n",
       "      <td>2024-02-20 23:38:13</td>\n",
       "      <td>0.0</td>\n",
       "    </tr>\n",
       "    <tr>\n",
       "      <th>27</th>\n",
       "      <td>28</td>\n",
       "      <td>0</td>\n",
       "      <td>140481859035920</td>\n",
       "      <td>2024-02-20 23:38:13</td>\n",
       "      <td>2024-02-20 23:38:13</td>\n",
       "      <td>0.0</td>\n",
       "    </tr>\n",
       "    <tr>\n",
       "      <th>28</th>\n",
       "      <td>29</td>\n",
       "      <td>1</td>\n",
       "      <td>140481859035920</td>\n",
       "      <td>2024-02-20 23:38:13</td>\n",
       "      <td>2024-02-20 23:38:13</td>\n",
       "      <td>0.0</td>\n",
       "    </tr>\n",
       "    <tr>\n",
       "      <th>29</th>\n",
       "      <td>30</td>\n",
       "      <td>2</td>\n",
       "      <td>140481859035920</td>\n",
       "      <td>2024-02-20 23:38:13</td>\n",
       "      <td>2024-02-20 23:38:13</td>\n",
       "      <td>0.0</td>\n",
       "    </tr>\n",
       "  </tbody>\n",
       "</table>\n",
       "</div>"
      ],
      "text/plain": [
       "     0  1                2                    3                    4    5\n",
       "0    1  0  140481858948624  2024-02-20 23:38:12  2024-02-20 23:38:12  0.0\n",
       "1    2  1  140481858948624  2024-02-20 23:38:12  2024-02-20 23:38:12  0.0\n",
       "2    3  2  140481858948624  2024-02-20 23:38:12  2024-02-20 23:38:12  0.0\n",
       "3    4  0  140481858913488  2024-02-20 23:38:12  2024-02-20 23:38:12  0.0\n",
       "4    5  1  140481858913488  2024-02-20 23:38:12  2024-02-20 23:38:12  0.0\n",
       "5    6  2  140481858913488  2024-02-20 23:38:12  2024-02-20 23:38:12  0.0\n",
       "6    7  0  140482611820368  2024-02-20 23:38:12  2024-02-20 23:38:12  0.0\n",
       "7    8  1  140482611820368  2024-02-20 23:38:12  2024-02-20 23:38:12  0.0\n",
       "8    9  2  140482611820368  2024-02-20 23:38:12  2024-02-20 23:38:12  0.0\n",
       "9   10  0  140481859035600  2024-02-20 23:38:12  2024-02-20 23:38:12  0.0\n",
       "10  11  1  140481859035600  2024-02-20 23:38:12  2024-02-20 23:38:12  0.0\n",
       "11  12  2  140481859035600  2024-02-20 23:38:12  2024-02-20 23:38:12  0.0\n",
       "12  13  0  140481859035472  2024-02-20 23:38:12  2024-02-20 23:38:12  0.0\n",
       "13  14  1  140481859035472  2024-02-20 23:38:12  2024-02-20 23:38:12  0.0\n",
       "14  15  2  140481859035472  2024-02-20 23:38:12  2024-02-20 23:38:12  0.0\n",
       "15  16  0  140481859035984  2024-02-20 23:38:13  2024-02-20 23:38:13  0.0\n",
       "16  17  1  140481859035984  2024-02-20 23:38:13  2024-02-20 23:38:13  0.0\n",
       "17  18  2  140481859035984  2024-02-20 23:38:13  2024-02-20 23:38:13  0.0\n",
       "18  19  0  140481859036048  2024-02-20 23:38:13  2024-02-20 23:38:13  0.0\n",
       "19  20  1  140481859036048  2024-02-20 23:38:13  2024-02-20 23:38:13  0.0\n",
       "20  21  2  140481859036048  2024-02-20 23:38:13  2024-02-20 23:38:13  0.0\n",
       "21  22  0  140481859036112  2024-02-20 23:38:13  2024-02-20 23:38:13  0.0\n",
       "22  23  1  140481859036112  2024-02-20 23:38:13  2024-02-20 23:38:13  0.0\n",
       "23  24  2  140481859036112  2024-02-20 23:38:13  2024-02-20 23:38:13  0.0\n",
       "24  25  0  140481859036176  2024-02-20 23:38:13  2024-02-20 23:38:13  0.0\n",
       "25  26  1  140481859036176  2024-02-20 23:38:13  2024-02-20 23:38:13  0.0\n",
       "26  27  2  140481859036176  2024-02-20 23:38:13  2024-02-20 23:38:13  0.0\n",
       "27  28  0  140481859035920  2024-02-20 23:38:13  2024-02-20 23:38:13  0.0\n",
       "28  29  1  140481859035920  2024-02-20 23:38:13  2024-02-20 23:38:13  0.0\n",
       "29  30  2  140481859035920  2024-02-20 23:38:13  2024-02-20 23:38:13  0.0"
      ]
     },
     "execution_count": 32,
     "metadata": {},
     "output_type": "execute_result"
    }
   ],
   "source": [
    "res = cursor.execute('''\n",
    "\n",
    "        SELECT * \n",
    "        FROM\n",
    "        weights\n",
    "\n",
    "''')\n",
    "pandas.DataFrame(res.fetchall())"
   ]
  },
  {
   "cell_type": "markdown",
   "id": "c32b0036-2f11-4c60-bf83-f361a328f3f0",
   "metadata": {},
   "source": [
    "### Predictions"
   ]
  },
  {
   "cell_type": "code",
   "execution_count": 33,
   "id": "49096be5-d025-43ff-aff8-360530b831c3",
   "metadata": {},
   "outputs": [
    {
     "data": {
      "text/plain": [
       "10"
      ]
     },
     "execution_count": 33,
     "metadata": {},
     "output_type": "execute_result"
    }
   ],
   "source": [
    "len(network.steps[0].eval())"
   ]
  },
  {
   "cell_type": "code",
   "execution_count": 34,
   "id": "403239f5-2b78-471c-a53a-d6ac3b7deef2",
   "metadata": {},
   "outputs": [
    {
     "data": {
      "text/plain": [
       "(100, 1)"
      ]
     },
     "execution_count": 34,
     "metadata": {},
     "output_type": "execute_result"
    }
   ],
   "source": [
    "network.steps[0].out[0][1].shape"
   ]
  },
  {
   "cell_type": "markdown",
   "id": "9046e105-4870-4ea2-99f9-92eee8bc141a",
   "metadata": {},
   "source": [
    "## Activation Layer"
   ]
  },
  {
   "cell_type": "code",
   "execution_count": 35,
   "id": "e4172856-cf1e-4c7a-98ec-05d0453ef855",
   "metadata": {},
   "outputs": [],
   "source": [
    "network.steps[1].In = network.steps[0].out"
   ]
  },
  {
   "cell_type": "code",
   "execution_count": 36,
   "id": "7bbe5e94-6b06-4cfb-a2b7-8cc207a01039",
   "metadata": {},
   "outputs": [
    {
     "data": {
      "text/plain": [
       "10"
      ]
     },
     "execution_count": 36,
     "metadata": {},
     "output_type": "execute_result"
    }
   ],
   "source": [
    "len(network.steps[1].In)"
   ]
  },
  {
   "cell_type": "code",
   "execution_count": 37,
   "id": "b2907ebc-de69-4fad-90aa-508cb5e652dd",
   "metadata": {},
   "outputs": [
    {
     "data": {
      "text/plain": [
       "[<neural_net.activation_funcs.σ at 0x7fc47b4e0690>,\n",
       " <neural_net.activation_funcs.σ at 0x7fc47b4e1f90>,\n",
       " <neural_net.activation_funcs.σ at 0x7fc47b4e2490>,\n",
       " <neural_net.activation_funcs.σ at 0x7fc47b4e24d0>,\n",
       " <neural_net.activation_funcs.σ at 0x7fc47b4e2510>,\n",
       " <neural_net.activation_funcs.σ at 0x7fc47b4e2590>,\n",
       " <neural_net.activation_funcs.σ at 0x7fc47b4e25d0>,\n",
       " <neural_net.activation_funcs.σ at 0x7fc47b4e2650>,\n",
       " <neural_net.activation_funcs.σ at 0x7fc47b4e26d0>,\n",
       " <neural_net.activation_funcs.σ at 0x7fc47b4e2550>]"
      ]
     },
     "execution_count": 37,
     "metadata": {},
     "output_type": "execute_result"
    }
   ],
   "source": [
    "network.steps[1].outfuncs"
   ]
  },
  {
   "cell_type": "code",
   "execution_count": 38,
   "id": "36e1345c-e7dc-45f7-908d-3909e96b9b16",
   "metadata": {},
   "outputs": [
    {
     "data": {
      "text/plain": [
       "<neural_net.activation_funcs.σ at 0x7fc47b4e0690>"
      ]
     },
     "execution_count": 38,
     "metadata": {},
     "output_type": "execute_result"
    }
   ],
   "source": [
    "network.steps[1].outfuncs[0]"
   ]
  },
  {
   "cell_type": "code",
   "execution_count": 39,
   "id": "b25542a5-9c71-418e-ab6b-249742a707a3",
   "metadata": {
    "scrolled": true
   },
   "outputs": [
    {
     "data": {
      "text/plain": [
       "(140481822145008,\n",
       " array([[0.],\n",
       "        [0.],\n",
       "        [0.],\n",
       "        [0.],\n",
       "        [0.],\n",
       "        [0.],\n",
       "        [0.],\n",
       "        [0.],\n",
       "        [0.],\n",
       "        [0.],\n",
       "        [0.],\n",
       "        [0.],\n",
       "        [0.],\n",
       "        [0.],\n",
       "        [0.],\n",
       "        [0.],\n",
       "        [0.],\n",
       "        [0.],\n",
       "        [0.],\n",
       "        [0.],\n",
       "        [0.],\n",
       "        [0.],\n",
       "        [0.],\n",
       "        [0.],\n",
       "        [0.],\n",
       "        [0.],\n",
       "        [0.],\n",
       "        [0.],\n",
       "        [0.],\n",
       "        [0.],\n",
       "        [0.],\n",
       "        [0.],\n",
       "        [0.],\n",
       "        [0.],\n",
       "        [0.],\n",
       "        [0.],\n",
       "        [0.],\n",
       "        [0.],\n",
       "        [0.],\n",
       "        [0.],\n",
       "        [0.],\n",
       "        [0.],\n",
       "        [0.],\n",
       "        [0.],\n",
       "        [0.],\n",
       "        [0.],\n",
       "        [0.],\n",
       "        [0.],\n",
       "        [0.],\n",
       "        [0.],\n",
       "        [0.],\n",
       "        [0.],\n",
       "        [0.],\n",
       "        [0.],\n",
       "        [0.],\n",
       "        [0.],\n",
       "        [0.],\n",
       "        [0.],\n",
       "        [0.],\n",
       "        [0.],\n",
       "        [0.],\n",
       "        [0.],\n",
       "        [0.],\n",
       "        [0.],\n",
       "        [0.],\n",
       "        [0.],\n",
       "        [0.],\n",
       "        [0.],\n",
       "        [0.],\n",
       "        [0.],\n",
       "        [0.],\n",
       "        [0.],\n",
       "        [0.],\n",
       "        [0.],\n",
       "        [0.],\n",
       "        [0.],\n",
       "        [0.],\n",
       "        [0.],\n",
       "        [0.],\n",
       "        [0.],\n",
       "        [0.],\n",
       "        [0.],\n",
       "        [0.],\n",
       "        [0.],\n",
       "        [0.],\n",
       "        [0.],\n",
       "        [0.],\n",
       "        [0.],\n",
       "        [0.],\n",
       "        [0.],\n",
       "        [0.],\n",
       "        [0.],\n",
       "        [0.],\n",
       "        [0.],\n",
       "        [0.],\n",
       "        [0.],\n",
       "        [0.],\n",
       "        [0.],\n",
       "        [0.],\n",
       "        [0.]]))"
      ]
     },
     "execution_count": 39,
     "metadata": {},
     "output_type": "execute_result"
    }
   ],
   "source": [
    "network.steps[1].outfuncs[0].In"
   ]
  },
  {
   "cell_type": "code",
   "execution_count": 40,
   "id": "64f1cd15-d55c-4168-9120-72045e8b02c1",
   "metadata": {},
   "outputs": [
    {
     "data": {
      "text/plain": [
       "(100, 1)"
      ]
     },
     "execution_count": 40,
     "metadata": {},
     "output_type": "execute_result"
    }
   ],
   "source": [
    "network.steps[1].outfuncs[0].In[1].shape"
   ]
  },
  {
   "cell_type": "code",
   "execution_count": 41,
   "id": "e878f83f-0f7d-44b3-ae8e-1c4b06de129b",
   "metadata": {},
   "outputs": [
    {
     "data": {
      "text/plain": [
       "10"
      ]
     },
     "execution_count": 41,
     "metadata": {},
     "output_type": "execute_result"
    }
   ],
   "source": [
    "len(network.steps[1])"
   ]
  },
  {
   "cell_type": "code",
   "execution_count": 42,
   "id": "1402a9bb-a61d-414c-9790-0e2c47aa691b",
   "metadata": {},
   "outputs": [
    {
     "data": {
      "text/plain": [
       "10"
      ]
     },
     "execution_count": 42,
     "metadata": {},
     "output_type": "execute_result"
    }
   ],
   "source": [
    "len(network.steps[1].eval())"
   ]
  },
  {
   "cell_type": "code",
   "execution_count": 43,
   "id": "04e617fc-fe5f-488d-ac89-2404dd905f89",
   "metadata": {},
   "outputs": [
    {
     "data": {
      "text/plain": [
       "[<neural_net.activation_funcs.σ at 0x7fc47b4e0690>,\n",
       " <neural_net.activation_funcs.σ at 0x7fc47b4e1f90>,\n",
       " <neural_net.activation_funcs.σ at 0x7fc47b4e2490>,\n",
       " <neural_net.activation_funcs.σ at 0x7fc47b4e24d0>,\n",
       " <neural_net.activation_funcs.σ at 0x7fc47b4e2510>,\n",
       " <neural_net.activation_funcs.σ at 0x7fc47b4e2590>,\n",
       " <neural_net.activation_funcs.σ at 0x7fc47b4e25d0>,\n",
       " <neural_net.activation_funcs.σ at 0x7fc47b4e2650>,\n",
       " <neural_net.activation_funcs.σ at 0x7fc47b4e26d0>,\n",
       " <neural_net.activation_funcs.σ at 0x7fc47b4e2550>]"
      ]
     },
     "execution_count": 43,
     "metadata": {},
     "output_type": "execute_result"
    }
   ],
   "source": [
    "network.steps[1].outfuncs"
   ]
  },
  {
   "cell_type": "code",
   "execution_count": 44,
   "id": "a3b1da45-26a5-4f6b-b835-faccbbbe1576",
   "metadata": {
    "scrolled": true
   },
   "outputs": [
    {
     "data": {
      "text/plain": [
       "(140481858761040,\n",
       " array([[0.5],\n",
       "        [0.5],\n",
       "        [0.5],\n",
       "        [0.5],\n",
       "        [0.5],\n",
       "        [0.5],\n",
       "        [0.5],\n",
       "        [0.5],\n",
       "        [0.5],\n",
       "        [0.5],\n",
       "        [0.5],\n",
       "        [0.5],\n",
       "        [0.5],\n",
       "        [0.5],\n",
       "        [0.5],\n",
       "        [0.5],\n",
       "        [0.5],\n",
       "        [0.5],\n",
       "        [0.5],\n",
       "        [0.5],\n",
       "        [0.5],\n",
       "        [0.5],\n",
       "        [0.5],\n",
       "        [0.5],\n",
       "        [0.5],\n",
       "        [0.5],\n",
       "        [0.5],\n",
       "        [0.5],\n",
       "        [0.5],\n",
       "        [0.5],\n",
       "        [0.5],\n",
       "        [0.5],\n",
       "        [0.5],\n",
       "        [0.5],\n",
       "        [0.5],\n",
       "        [0.5],\n",
       "        [0.5],\n",
       "        [0.5],\n",
       "        [0.5],\n",
       "        [0.5],\n",
       "        [0.5],\n",
       "        [0.5],\n",
       "        [0.5],\n",
       "        [0.5],\n",
       "        [0.5],\n",
       "        [0.5],\n",
       "        [0.5],\n",
       "        [0.5],\n",
       "        [0.5],\n",
       "        [0.5],\n",
       "        [0.5],\n",
       "        [0.5],\n",
       "        [0.5],\n",
       "        [0.5],\n",
       "        [0.5],\n",
       "        [0.5],\n",
       "        [0.5],\n",
       "        [0.5],\n",
       "        [0.5],\n",
       "        [0.5],\n",
       "        [0.5],\n",
       "        [0.5],\n",
       "        [0.5],\n",
       "        [0.5],\n",
       "        [0.5],\n",
       "        [0.5],\n",
       "        [0.5],\n",
       "        [0.5],\n",
       "        [0.5],\n",
       "        [0.5],\n",
       "        [0.5],\n",
       "        [0.5],\n",
       "        [0.5],\n",
       "        [0.5],\n",
       "        [0.5],\n",
       "        [0.5],\n",
       "        [0.5],\n",
       "        [0.5],\n",
       "        [0.5],\n",
       "        [0.5],\n",
       "        [0.5],\n",
       "        [0.5],\n",
       "        [0.5],\n",
       "        [0.5],\n",
       "        [0.5],\n",
       "        [0.5],\n",
       "        [0.5],\n",
       "        [0.5],\n",
       "        [0.5],\n",
       "        [0.5],\n",
       "        [0.5],\n",
       "        [0.5],\n",
       "        [0.5],\n",
       "        [0.5],\n",
       "        [0.5],\n",
       "        [0.5],\n",
       "        [0.5],\n",
       "        [0.5],\n",
       "        [0.5],\n",
       "        [0.5]]))"
      ]
     },
     "execution_count": 44,
     "metadata": {},
     "output_type": "execute_result"
    }
   ],
   "source": [
    "network.steps[1].outfuncs[0].eval()"
   ]
  },
  {
   "cell_type": "code",
   "execution_count": 45,
   "id": "1f43b0a9-058d-4573-8dc5-5f7e246f1630",
   "metadata": {},
   "outputs": [
    {
     "data": {
      "text/plain": [
       "10"
      ]
     },
     "execution_count": 45,
     "metadata": {},
     "output_type": "execute_result"
    }
   ],
   "source": [
    "len(network.steps[1].out)"
   ]
  },
  {
   "cell_type": "markdown",
   "id": "cb2ad0b9-2f95-48c3-8bad-5d1e80480a8b",
   "metadata": {},
   "source": [
    "## Second Linear Layer"
   ]
  },
  {
   "cell_type": "code",
   "execution_count": 46,
   "id": "b7e33330-0ddd-430a-903a-cdedd28168bd",
   "metadata": {},
   "outputs": [],
   "source": [
    "network.steps[2].In = network.steps[1].out"
   ]
  },
  {
   "cell_type": "code",
   "execution_count": 47,
   "id": "c64be0bc-7962-488d-9ca6-76df9b7b4969",
   "metadata": {},
   "outputs": [
    {
     "data": {
      "text/plain": [
       "10"
      ]
     },
     "execution_count": 47,
     "metadata": {},
     "output_type": "execute_result"
    }
   ],
   "source": [
    "len(network.steps[2].In)"
   ]
  },
  {
   "cell_type": "code",
   "execution_count": 48,
   "id": "69939169-20ca-4234-981f-3e9468c93a2e",
   "metadata": {},
   "outputs": [
    {
     "data": {
      "text/plain": [
       "[<neural_net.activation_funcs.Σ at 0x7fc47b4e2850>]"
      ]
     },
     "execution_count": 48,
     "metadata": {},
     "output_type": "execute_result"
    }
   ],
   "source": [
    "network.steps[2].outfuncs"
   ]
  },
  {
   "cell_type": "code",
   "execution_count": 49,
   "id": "9ae34535-57c6-4a15-b508-d8e8bd2bcdf2",
   "metadata": {
    "scrolled": true
   },
   "outputs": [
    {
     "data": {
      "text/html": [
       "<div>\n",
       "<style scoped>\n",
       "    .dataframe tbody tr th:only-of-type {\n",
       "        vertical-align: middle;\n",
       "    }\n",
       "\n",
       "    .dataframe tbody tr th {\n",
       "        vertical-align: top;\n",
       "    }\n",
       "\n",
       "    .dataframe thead th {\n",
       "        text-align: right;\n",
       "    }\n",
       "</style>\n",
       "<table border=\"1\" class=\"dataframe\">\n",
       "  <thead>\n",
       "    <tr style=\"text-align: right;\">\n",
       "      <th></th>\n",
       "      <th>0</th>\n",
       "      <th>1</th>\n",
       "      <th>2</th>\n",
       "      <th>3</th>\n",
       "      <th>4</th>\n",
       "      <th>5</th>\n",
       "    </tr>\n",
       "  </thead>\n",
       "  <tbody>\n",
       "    <tr>\n",
       "      <th>0</th>\n",
       "      <td>1</td>\n",
       "      <td>0</td>\n",
       "      <td>140481858948624</td>\n",
       "      <td>2024-02-20 23:38:12</td>\n",
       "      <td>2024-02-20 23:38:12</td>\n",
       "      <td>0.0</td>\n",
       "    </tr>\n",
       "    <tr>\n",
       "      <th>1</th>\n",
       "      <td>2</td>\n",
       "      <td>1</td>\n",
       "      <td>140481858948624</td>\n",
       "      <td>2024-02-20 23:38:12</td>\n",
       "      <td>2024-02-20 23:38:12</td>\n",
       "      <td>0.0</td>\n",
       "    </tr>\n",
       "    <tr>\n",
       "      <th>2</th>\n",
       "      <td>3</td>\n",
       "      <td>2</td>\n",
       "      <td>140481858948624</td>\n",
       "      <td>2024-02-20 23:38:12</td>\n",
       "      <td>2024-02-20 23:38:12</td>\n",
       "      <td>0.0</td>\n",
       "    </tr>\n",
       "    <tr>\n",
       "      <th>3</th>\n",
       "      <td>4</td>\n",
       "      <td>0</td>\n",
       "      <td>140481858913488</td>\n",
       "      <td>2024-02-20 23:38:12</td>\n",
       "      <td>2024-02-20 23:38:12</td>\n",
       "      <td>0.0</td>\n",
       "    </tr>\n",
       "    <tr>\n",
       "      <th>4</th>\n",
       "      <td>5</td>\n",
       "      <td>1</td>\n",
       "      <td>140481858913488</td>\n",
       "      <td>2024-02-20 23:38:12</td>\n",
       "      <td>2024-02-20 23:38:12</td>\n",
       "      <td>0.0</td>\n",
       "    </tr>\n",
       "    <tr>\n",
       "      <th>5</th>\n",
       "      <td>6</td>\n",
       "      <td>2</td>\n",
       "      <td>140481858913488</td>\n",
       "      <td>2024-02-20 23:38:12</td>\n",
       "      <td>2024-02-20 23:38:12</td>\n",
       "      <td>0.0</td>\n",
       "    </tr>\n",
       "    <tr>\n",
       "      <th>6</th>\n",
       "      <td>7</td>\n",
       "      <td>0</td>\n",
       "      <td>140482611820368</td>\n",
       "      <td>2024-02-20 23:38:12</td>\n",
       "      <td>2024-02-20 23:38:12</td>\n",
       "      <td>0.0</td>\n",
       "    </tr>\n",
       "    <tr>\n",
       "      <th>7</th>\n",
       "      <td>8</td>\n",
       "      <td>1</td>\n",
       "      <td>140482611820368</td>\n",
       "      <td>2024-02-20 23:38:12</td>\n",
       "      <td>2024-02-20 23:38:12</td>\n",
       "      <td>0.0</td>\n",
       "    </tr>\n",
       "    <tr>\n",
       "      <th>8</th>\n",
       "      <td>9</td>\n",
       "      <td>2</td>\n",
       "      <td>140482611820368</td>\n",
       "      <td>2024-02-20 23:38:12</td>\n",
       "      <td>2024-02-20 23:38:12</td>\n",
       "      <td>0.0</td>\n",
       "    </tr>\n",
       "    <tr>\n",
       "      <th>9</th>\n",
       "      <td>10</td>\n",
       "      <td>0</td>\n",
       "      <td>140481859035600</td>\n",
       "      <td>2024-02-20 23:38:12</td>\n",
       "      <td>2024-02-20 23:38:12</td>\n",
       "      <td>0.0</td>\n",
       "    </tr>\n",
       "    <tr>\n",
       "      <th>10</th>\n",
       "      <td>11</td>\n",
       "      <td>1</td>\n",
       "      <td>140481859035600</td>\n",
       "      <td>2024-02-20 23:38:12</td>\n",
       "      <td>2024-02-20 23:38:12</td>\n",
       "      <td>0.0</td>\n",
       "    </tr>\n",
       "    <tr>\n",
       "      <th>11</th>\n",
       "      <td>12</td>\n",
       "      <td>2</td>\n",
       "      <td>140481859035600</td>\n",
       "      <td>2024-02-20 23:38:12</td>\n",
       "      <td>2024-02-20 23:38:12</td>\n",
       "      <td>0.0</td>\n",
       "    </tr>\n",
       "    <tr>\n",
       "      <th>12</th>\n",
       "      <td>13</td>\n",
       "      <td>0</td>\n",
       "      <td>140481859035472</td>\n",
       "      <td>2024-02-20 23:38:12</td>\n",
       "      <td>2024-02-20 23:38:12</td>\n",
       "      <td>0.0</td>\n",
       "    </tr>\n",
       "    <tr>\n",
       "      <th>13</th>\n",
       "      <td>14</td>\n",
       "      <td>1</td>\n",
       "      <td>140481859035472</td>\n",
       "      <td>2024-02-20 23:38:12</td>\n",
       "      <td>2024-02-20 23:38:12</td>\n",
       "      <td>0.0</td>\n",
       "    </tr>\n",
       "    <tr>\n",
       "      <th>14</th>\n",
       "      <td>15</td>\n",
       "      <td>2</td>\n",
       "      <td>140481859035472</td>\n",
       "      <td>2024-02-20 23:38:12</td>\n",
       "      <td>2024-02-20 23:38:12</td>\n",
       "      <td>0.0</td>\n",
       "    </tr>\n",
       "    <tr>\n",
       "      <th>15</th>\n",
       "      <td>16</td>\n",
       "      <td>0</td>\n",
       "      <td>140481859035984</td>\n",
       "      <td>2024-02-20 23:38:13</td>\n",
       "      <td>2024-02-20 23:38:13</td>\n",
       "      <td>0.0</td>\n",
       "    </tr>\n",
       "    <tr>\n",
       "      <th>16</th>\n",
       "      <td>17</td>\n",
       "      <td>1</td>\n",
       "      <td>140481859035984</td>\n",
       "      <td>2024-02-20 23:38:13</td>\n",
       "      <td>2024-02-20 23:38:13</td>\n",
       "      <td>0.0</td>\n",
       "    </tr>\n",
       "    <tr>\n",
       "      <th>17</th>\n",
       "      <td>18</td>\n",
       "      <td>2</td>\n",
       "      <td>140481859035984</td>\n",
       "      <td>2024-02-20 23:38:13</td>\n",
       "      <td>2024-02-20 23:38:13</td>\n",
       "      <td>0.0</td>\n",
       "    </tr>\n",
       "    <tr>\n",
       "      <th>18</th>\n",
       "      <td>19</td>\n",
       "      <td>0</td>\n",
       "      <td>140481859036048</td>\n",
       "      <td>2024-02-20 23:38:13</td>\n",
       "      <td>2024-02-20 23:38:13</td>\n",
       "      <td>0.0</td>\n",
       "    </tr>\n",
       "    <tr>\n",
       "      <th>19</th>\n",
       "      <td>20</td>\n",
       "      <td>1</td>\n",
       "      <td>140481859036048</td>\n",
       "      <td>2024-02-20 23:38:13</td>\n",
       "      <td>2024-02-20 23:38:13</td>\n",
       "      <td>0.0</td>\n",
       "    </tr>\n",
       "    <tr>\n",
       "      <th>20</th>\n",
       "      <td>21</td>\n",
       "      <td>2</td>\n",
       "      <td>140481859036048</td>\n",
       "      <td>2024-02-20 23:38:13</td>\n",
       "      <td>2024-02-20 23:38:13</td>\n",
       "      <td>0.0</td>\n",
       "    </tr>\n",
       "    <tr>\n",
       "      <th>21</th>\n",
       "      <td>22</td>\n",
       "      <td>0</td>\n",
       "      <td>140481859036112</td>\n",
       "      <td>2024-02-20 23:38:13</td>\n",
       "      <td>2024-02-20 23:38:13</td>\n",
       "      <td>0.0</td>\n",
       "    </tr>\n",
       "    <tr>\n",
       "      <th>22</th>\n",
       "      <td>23</td>\n",
       "      <td>1</td>\n",
       "      <td>140481859036112</td>\n",
       "      <td>2024-02-20 23:38:13</td>\n",
       "      <td>2024-02-20 23:38:13</td>\n",
       "      <td>0.0</td>\n",
       "    </tr>\n",
       "    <tr>\n",
       "      <th>23</th>\n",
       "      <td>24</td>\n",
       "      <td>2</td>\n",
       "      <td>140481859036112</td>\n",
       "      <td>2024-02-20 23:38:13</td>\n",
       "      <td>2024-02-20 23:38:13</td>\n",
       "      <td>0.0</td>\n",
       "    </tr>\n",
       "    <tr>\n",
       "      <th>24</th>\n",
       "      <td>25</td>\n",
       "      <td>0</td>\n",
       "      <td>140481859036176</td>\n",
       "      <td>2024-02-20 23:38:13</td>\n",
       "      <td>2024-02-20 23:38:13</td>\n",
       "      <td>0.0</td>\n",
       "    </tr>\n",
       "    <tr>\n",
       "      <th>25</th>\n",
       "      <td>26</td>\n",
       "      <td>1</td>\n",
       "      <td>140481859036176</td>\n",
       "      <td>2024-02-20 23:38:13</td>\n",
       "      <td>2024-02-20 23:38:13</td>\n",
       "      <td>0.0</td>\n",
       "    </tr>\n",
       "    <tr>\n",
       "      <th>26</th>\n",
       "      <td>27</td>\n",
       "      <td>2</td>\n",
       "      <td>140481859036176</td>\n",
       "      <td>2024-02-20 23:38:13</td>\n",
       "      <td>2024-02-20 23:38:13</td>\n",
       "      <td>0.0</td>\n",
       "    </tr>\n",
       "    <tr>\n",
       "      <th>27</th>\n",
       "      <td>28</td>\n",
       "      <td>0</td>\n",
       "      <td>140481859035920</td>\n",
       "      <td>2024-02-20 23:38:13</td>\n",
       "      <td>2024-02-20 23:38:13</td>\n",
       "      <td>0.0</td>\n",
       "    </tr>\n",
       "    <tr>\n",
       "      <th>28</th>\n",
       "      <td>29</td>\n",
       "      <td>1</td>\n",
       "      <td>140481859035920</td>\n",
       "      <td>2024-02-20 23:38:13</td>\n",
       "      <td>2024-02-20 23:38:13</td>\n",
       "      <td>0.0</td>\n",
       "    </tr>\n",
       "    <tr>\n",
       "      <th>29</th>\n",
       "      <td>30</td>\n",
       "      <td>2</td>\n",
       "      <td>140481859035920</td>\n",
       "      <td>2024-02-20 23:38:13</td>\n",
       "      <td>2024-02-20 23:38:13</td>\n",
       "      <td>0.0</td>\n",
       "    </tr>\n",
       "    <tr>\n",
       "      <th>30</th>\n",
       "      <td>31</td>\n",
       "      <td>0</td>\n",
       "      <td>140481859037264</td>\n",
       "      <td>2024-02-20 23:38:14</td>\n",
       "      <td>2024-02-20 23:38:14</td>\n",
       "      <td>0.0</td>\n",
       "    </tr>\n",
       "    <tr>\n",
       "      <th>31</th>\n",
       "      <td>32</td>\n",
       "      <td>1</td>\n",
       "      <td>140481859037264</td>\n",
       "      <td>2024-02-20 23:38:14</td>\n",
       "      <td>2024-02-20 23:38:14</td>\n",
       "      <td>0.0</td>\n",
       "    </tr>\n",
       "    <tr>\n",
       "      <th>32</th>\n",
       "      <td>33</td>\n",
       "      <td>2</td>\n",
       "      <td>140481859037264</td>\n",
       "      <td>2024-02-20 23:38:14</td>\n",
       "      <td>2024-02-20 23:38:14</td>\n",
       "      <td>0.0</td>\n",
       "    </tr>\n",
       "    <tr>\n",
       "      <th>33</th>\n",
       "      <td>34</td>\n",
       "      <td>3</td>\n",
       "      <td>140481859037264</td>\n",
       "      <td>2024-02-20 23:38:14</td>\n",
       "      <td>2024-02-20 23:38:14</td>\n",
       "      <td>0.0</td>\n",
       "    </tr>\n",
       "    <tr>\n",
       "      <th>34</th>\n",
       "      <td>35</td>\n",
       "      <td>4</td>\n",
       "      <td>140481859037264</td>\n",
       "      <td>2024-02-20 23:38:14</td>\n",
       "      <td>2024-02-20 23:38:14</td>\n",
       "      <td>0.0</td>\n",
       "    </tr>\n",
       "    <tr>\n",
       "      <th>35</th>\n",
       "      <td>36</td>\n",
       "      <td>5</td>\n",
       "      <td>140481859037264</td>\n",
       "      <td>2024-02-20 23:38:14</td>\n",
       "      <td>2024-02-20 23:38:14</td>\n",
       "      <td>0.0</td>\n",
       "    </tr>\n",
       "    <tr>\n",
       "      <th>36</th>\n",
       "      <td>37</td>\n",
       "      <td>6</td>\n",
       "      <td>140481859037264</td>\n",
       "      <td>2024-02-20 23:38:14</td>\n",
       "      <td>2024-02-20 23:38:14</td>\n",
       "      <td>0.0</td>\n",
       "    </tr>\n",
       "    <tr>\n",
       "      <th>37</th>\n",
       "      <td>38</td>\n",
       "      <td>7</td>\n",
       "      <td>140481859037264</td>\n",
       "      <td>2024-02-20 23:38:14</td>\n",
       "      <td>2024-02-20 23:38:14</td>\n",
       "      <td>0.0</td>\n",
       "    </tr>\n",
       "    <tr>\n",
       "      <th>38</th>\n",
       "      <td>39</td>\n",
       "      <td>8</td>\n",
       "      <td>140481859037264</td>\n",
       "      <td>2024-02-20 23:38:14</td>\n",
       "      <td>2024-02-20 23:38:14</td>\n",
       "      <td>0.0</td>\n",
       "    </tr>\n",
       "    <tr>\n",
       "      <th>39</th>\n",
       "      <td>40</td>\n",
       "      <td>9</td>\n",
       "      <td>140481859037264</td>\n",
       "      <td>2024-02-20 23:38:14</td>\n",
       "      <td>2024-02-20 23:38:14</td>\n",
       "      <td>0.0</td>\n",
       "    </tr>\n",
       "    <tr>\n",
       "      <th>40</th>\n",
       "      <td>41</td>\n",
       "      <td>10</td>\n",
       "      <td>140481859037264</td>\n",
       "      <td>2024-02-20 23:38:14</td>\n",
       "      <td>2024-02-20 23:38:14</td>\n",
       "      <td>0.0</td>\n",
       "    </tr>\n",
       "  </tbody>\n",
       "</table>\n",
       "</div>"
      ],
      "text/plain": [
       "     0   1                2                    3                    4    5\n",
       "0    1   0  140481858948624  2024-02-20 23:38:12  2024-02-20 23:38:12  0.0\n",
       "1    2   1  140481858948624  2024-02-20 23:38:12  2024-02-20 23:38:12  0.0\n",
       "2    3   2  140481858948624  2024-02-20 23:38:12  2024-02-20 23:38:12  0.0\n",
       "3    4   0  140481858913488  2024-02-20 23:38:12  2024-02-20 23:38:12  0.0\n",
       "4    5   1  140481858913488  2024-02-20 23:38:12  2024-02-20 23:38:12  0.0\n",
       "5    6   2  140481858913488  2024-02-20 23:38:12  2024-02-20 23:38:12  0.0\n",
       "6    7   0  140482611820368  2024-02-20 23:38:12  2024-02-20 23:38:12  0.0\n",
       "7    8   1  140482611820368  2024-02-20 23:38:12  2024-02-20 23:38:12  0.0\n",
       "8    9   2  140482611820368  2024-02-20 23:38:12  2024-02-20 23:38:12  0.0\n",
       "9   10   0  140481859035600  2024-02-20 23:38:12  2024-02-20 23:38:12  0.0\n",
       "10  11   1  140481859035600  2024-02-20 23:38:12  2024-02-20 23:38:12  0.0\n",
       "11  12   2  140481859035600  2024-02-20 23:38:12  2024-02-20 23:38:12  0.0\n",
       "12  13   0  140481859035472  2024-02-20 23:38:12  2024-02-20 23:38:12  0.0\n",
       "13  14   1  140481859035472  2024-02-20 23:38:12  2024-02-20 23:38:12  0.0\n",
       "14  15   2  140481859035472  2024-02-20 23:38:12  2024-02-20 23:38:12  0.0\n",
       "15  16   0  140481859035984  2024-02-20 23:38:13  2024-02-20 23:38:13  0.0\n",
       "16  17   1  140481859035984  2024-02-20 23:38:13  2024-02-20 23:38:13  0.0\n",
       "17  18   2  140481859035984  2024-02-20 23:38:13  2024-02-20 23:38:13  0.0\n",
       "18  19   0  140481859036048  2024-02-20 23:38:13  2024-02-20 23:38:13  0.0\n",
       "19  20   1  140481859036048  2024-02-20 23:38:13  2024-02-20 23:38:13  0.0\n",
       "20  21   2  140481859036048  2024-02-20 23:38:13  2024-02-20 23:38:13  0.0\n",
       "21  22   0  140481859036112  2024-02-20 23:38:13  2024-02-20 23:38:13  0.0\n",
       "22  23   1  140481859036112  2024-02-20 23:38:13  2024-02-20 23:38:13  0.0\n",
       "23  24   2  140481859036112  2024-02-20 23:38:13  2024-02-20 23:38:13  0.0\n",
       "24  25   0  140481859036176  2024-02-20 23:38:13  2024-02-20 23:38:13  0.0\n",
       "25  26   1  140481859036176  2024-02-20 23:38:13  2024-02-20 23:38:13  0.0\n",
       "26  27   2  140481859036176  2024-02-20 23:38:13  2024-02-20 23:38:13  0.0\n",
       "27  28   0  140481859035920  2024-02-20 23:38:13  2024-02-20 23:38:13  0.0\n",
       "28  29   1  140481859035920  2024-02-20 23:38:13  2024-02-20 23:38:13  0.0\n",
       "29  30   2  140481859035920  2024-02-20 23:38:13  2024-02-20 23:38:13  0.0\n",
       "30  31   0  140481859037264  2024-02-20 23:38:14  2024-02-20 23:38:14  0.0\n",
       "31  32   1  140481859037264  2024-02-20 23:38:14  2024-02-20 23:38:14  0.0\n",
       "32  33   2  140481859037264  2024-02-20 23:38:14  2024-02-20 23:38:14  0.0\n",
       "33  34   3  140481859037264  2024-02-20 23:38:14  2024-02-20 23:38:14  0.0\n",
       "34  35   4  140481859037264  2024-02-20 23:38:14  2024-02-20 23:38:14  0.0\n",
       "35  36   5  140481859037264  2024-02-20 23:38:14  2024-02-20 23:38:14  0.0\n",
       "36  37   6  140481859037264  2024-02-20 23:38:14  2024-02-20 23:38:14  0.0\n",
       "37  38   7  140481859037264  2024-02-20 23:38:14  2024-02-20 23:38:14  0.0\n",
       "38  39   8  140481859037264  2024-02-20 23:38:14  2024-02-20 23:38:14  0.0\n",
       "39  40   9  140481859037264  2024-02-20 23:38:14  2024-02-20 23:38:14  0.0\n",
       "40  41  10  140481859037264  2024-02-20 23:38:14  2024-02-20 23:38:14  0.0"
      ]
     },
     "execution_count": 49,
     "metadata": {},
     "output_type": "execute_result"
    }
   ],
   "source": [
    "res = cursor.execute('''\n",
    "\n",
    "        SELECT * \n",
    "        FROM\n",
    "        weights\n",
    "\n",
    "''')\n",
    "pandas.DataFrame(res.fetchall())"
   ]
  },
  {
   "cell_type": "code",
   "execution_count": 50,
   "id": "9541d90e-e889-4ad2-995d-bb199ba04211",
   "metadata": {},
   "outputs": [
    {
     "data": {
      "text/plain": [
       "(100, 10)"
      ]
     },
     "execution_count": 50,
     "metadata": {},
     "output_type": "execute_result"
    }
   ],
   "source": [
    "network.steps[2].outfuncs[0].In[1].shape"
   ]
  },
  {
   "cell_type": "code",
   "execution_count": 51,
   "id": "8b169ef8-98b7-4067-a0f6-78060cac3d5b",
   "metadata": {},
   "outputs": [
    {
     "data": {
      "text/plain": [
       "1"
      ]
     },
     "execution_count": 51,
     "metadata": {},
     "output_type": "execute_result"
    }
   ],
   "source": [
    "len(network.steps[2].eval())"
   ]
  },
  {
   "cell_type": "markdown",
   "id": "d0176a03-c726-49e1-989a-af78181a2c4e",
   "metadata": {},
   "source": [
    "## Output Layer"
   ]
  },
  {
   "cell_type": "code",
   "execution_count": 52,
   "id": "b4f997a4-5c2c-4dd8-aa7a-a4103f5ce747",
   "metadata": {},
   "outputs": [],
   "source": [
    "network.steps[3].In = network.steps[2].out"
   ]
  },
  {
   "cell_type": "code",
   "execution_count": 53,
   "id": "e90141a4-b06a-4835-94bb-7c9729ad245b",
   "metadata": {
    "scrolled": true
   },
   "outputs": [
    {
     "data": {
      "text/plain": [
       "[(140481822316784,\n",
       "  array([[0.5],\n",
       "         [0.5],\n",
       "         [0.5],\n",
       "         [0.5],\n",
       "         [0.5],\n",
       "         [0.5],\n",
       "         [0.5],\n",
       "         [0.5],\n",
       "         [0.5],\n",
       "         [0.5],\n",
       "         [0.5],\n",
       "         [0.5],\n",
       "         [0.5],\n",
       "         [0.5],\n",
       "         [0.5],\n",
       "         [0.5],\n",
       "         [0.5],\n",
       "         [0.5],\n",
       "         [0.5],\n",
       "         [0.5],\n",
       "         [0.5],\n",
       "         [0.5],\n",
       "         [0.5],\n",
       "         [0.5],\n",
       "         [0.5],\n",
       "         [0.5],\n",
       "         [0.5],\n",
       "         [0.5],\n",
       "         [0.5],\n",
       "         [0.5],\n",
       "         [0.5],\n",
       "         [0.5],\n",
       "         [0.5],\n",
       "         [0.5],\n",
       "         [0.5],\n",
       "         [0.5],\n",
       "         [0.5],\n",
       "         [0.5],\n",
       "         [0.5],\n",
       "         [0.5],\n",
       "         [0.5],\n",
       "         [0.5],\n",
       "         [0.5],\n",
       "         [0.5],\n",
       "         [0.5],\n",
       "         [0.5],\n",
       "         [0.5],\n",
       "         [0.5],\n",
       "         [0.5],\n",
       "         [0.5],\n",
       "         [0.5],\n",
       "         [0.5],\n",
       "         [0.5],\n",
       "         [0.5],\n",
       "         [0.5],\n",
       "         [0.5],\n",
       "         [0.5],\n",
       "         [0.5],\n",
       "         [0.5],\n",
       "         [0.5],\n",
       "         [0.5],\n",
       "         [0.5],\n",
       "         [0.5],\n",
       "         [0.5],\n",
       "         [0.5],\n",
       "         [0.5],\n",
       "         [0.5],\n",
       "         [0.5],\n",
       "         [0.5],\n",
       "         [0.5],\n",
       "         [0.5],\n",
       "         [0.5],\n",
       "         [0.5],\n",
       "         [0.5],\n",
       "         [0.5],\n",
       "         [0.5],\n",
       "         [0.5],\n",
       "         [0.5],\n",
       "         [0.5],\n",
       "         [0.5],\n",
       "         [0.5],\n",
       "         [0.5],\n",
       "         [0.5],\n",
       "         [0.5],\n",
       "         [0.5],\n",
       "         [0.5],\n",
       "         [0.5],\n",
       "         [0.5],\n",
       "         [0.5],\n",
       "         [0.5],\n",
       "         [0.5],\n",
       "         [0.5],\n",
       "         [0.5],\n",
       "         [0.5],\n",
       "         [0.5],\n",
       "         [0.5],\n",
       "         [0.5],\n",
       "         [0.5],\n",
       "         [0.5],\n",
       "         [0.5]]))]"
      ]
     },
     "execution_count": 53,
     "metadata": {},
     "output_type": "execute_result"
    }
   ],
   "source": [
    "network.steps[3].eval()"
   ]
  },
  {
   "cell_type": "markdown",
   "id": "df08d029-75bf-4c53-a130-41248d17b71d",
   "metadata": {},
   "source": [
    "## Predict Method"
   ]
  },
  {
   "cell_type": "code",
   "execution_count": 54,
   "id": "4cd1ff14-7c10-4e5a-aaa8-115921a3e81d",
   "metadata": {
    "scrolled": true
   },
   "outputs": [
    {
     "data": {
      "text/plain": [
       "[(140481858760752,\n",
       "  array([[0.5],\n",
       "         [0.5],\n",
       "         [0.5],\n",
       "         [0.5],\n",
       "         [0.5],\n",
       "         [0.5],\n",
       "         [0.5],\n",
       "         [0.5],\n",
       "         [0.5],\n",
       "         [0.5],\n",
       "         [0.5],\n",
       "         [0.5],\n",
       "         [0.5],\n",
       "         [0.5],\n",
       "         [0.5],\n",
       "         [0.5],\n",
       "         [0.5],\n",
       "         [0.5],\n",
       "         [0.5],\n",
       "         [0.5],\n",
       "         [0.5],\n",
       "         [0.5],\n",
       "         [0.5],\n",
       "         [0.5],\n",
       "         [0.5],\n",
       "         [0.5],\n",
       "         [0.5],\n",
       "         [0.5],\n",
       "         [0.5],\n",
       "         [0.5],\n",
       "         [0.5],\n",
       "         [0.5],\n",
       "         [0.5],\n",
       "         [0.5],\n",
       "         [0.5],\n",
       "         [0.5],\n",
       "         [0.5],\n",
       "         [0.5],\n",
       "         [0.5],\n",
       "         [0.5],\n",
       "         [0.5],\n",
       "         [0.5],\n",
       "         [0.5],\n",
       "         [0.5],\n",
       "         [0.5],\n",
       "         [0.5],\n",
       "         [0.5],\n",
       "         [0.5],\n",
       "         [0.5],\n",
       "         [0.5],\n",
       "         [0.5],\n",
       "         [0.5],\n",
       "         [0.5],\n",
       "         [0.5],\n",
       "         [0.5],\n",
       "         [0.5],\n",
       "         [0.5],\n",
       "         [0.5],\n",
       "         [0.5],\n",
       "         [0.5],\n",
       "         [0.5],\n",
       "         [0.5],\n",
       "         [0.5],\n",
       "         [0.5],\n",
       "         [0.5],\n",
       "         [0.5],\n",
       "         [0.5],\n",
       "         [0.5],\n",
       "         [0.5],\n",
       "         [0.5],\n",
       "         [0.5],\n",
       "         [0.5],\n",
       "         [0.5],\n",
       "         [0.5],\n",
       "         [0.5],\n",
       "         [0.5],\n",
       "         [0.5],\n",
       "         [0.5],\n",
       "         [0.5],\n",
       "         [0.5],\n",
       "         [0.5],\n",
       "         [0.5],\n",
       "         [0.5],\n",
       "         [0.5],\n",
       "         [0.5],\n",
       "         [0.5],\n",
       "         [0.5],\n",
       "         [0.5],\n",
       "         [0.5],\n",
       "         [0.5],\n",
       "         [0.5],\n",
       "         [0.5],\n",
       "         [0.5],\n",
       "         [0.5],\n",
       "         [0.5],\n",
       "         [0.5],\n",
       "         [0.5],\n",
       "         [0.5],\n",
       "         [0.5],\n",
       "         [0.5]]))]"
      ]
     },
     "execution_count": 54,
     "metadata": {},
     "output_type": "execute_result"
    }
   ],
   "source": [
    "network.predict(X)"
   ]
  },
  {
   "cell_type": "markdown",
   "id": "19eaaed5-b8b2-4d36-9a8d-c61311c0bc68",
   "metadata": {},
   "source": [
    "# Visualizing Network"
   ]
  },
  {
   "cell_type": "code",
   "execution_count": 55,
   "id": "1f4e8e6a-72b5-4f1e-a9bd-f7df4f6f139f",
   "metadata": {},
   "outputs": [
    {
     "data": {
      "text/plain": [
       "neural_net.utils.GraphManager"
      ]
     },
     "execution_count": 55,
     "metadata": {},
     "output_type": "execute_result"
    }
   ],
   "source": [
    "neural_net.\tarchitecture.GraphManager"
   ]
  },
  {
   "cell_type": "code",
   "execution_count": 56,
   "id": "cc096bd3-7da9-40f3-9a12-097dee3fe07e",
   "metadata": {},
   "outputs": [
    {
     "data": {
      "image/png": "[encoded data removed]",
      "text/plain": [
       "<Figure size 640x480 with 1 Axes>"
      ]
     },
     "metadata": {},
     "output_type": "display_data"
    }
   ],
   "source": [
    "neural_net.\tarchitecture.GraphManager.draw()"
   ]
  },
  {
   "cell_type": "code",
   "execution_count": 57,
   "id": "6bda8278-2003-4f35-998d-c175f402b90b",
   "metadata": {},
   "outputs": [
    {
     "name": "stdout",
     "output_type": "stream",
     "text": [
      "Warning: When  cdn_resources is 'local' jupyter notebook has issues displaying graphics on chrome/safari. Use cdn_resources='in_line' or cdn_resources='remote' if you have issues viewing graphics in a notebook.\n",
      "ModelGraph.html\n"
     ]
    },
    {
     "data": {
      "text/html": [
       "\n",
       "        <iframe\n",
       "            width=\"100%\"\n",
       "            height=\"600px\"\n",
       "            src=\"ModelGraph.html\"\n",
       "            frameborder=\"0\"\n",
       "            allowfullscreen\n",
       "            \n",
       "        ></iframe>\n",
       "        "
      ],
      "text/plain": [
       "<IPython.lib.display.IFrame at 0x7fc475a1a250>"
      ]
     },
     "execution_count": 57,
     "metadata": {},
     "output_type": "execute_result"
    }
   ],
   "source": [
    "neural_net.\tarchitecture.GraphManager.draw(engine='pyviz',params={'notebook':True})"
   ]
  },
  {
   "cell_type": "code",
   "execution_count": null,
   "id": "603d0ce6-17d1-4a79-a3b3-4f7fcdf8f7fc",
   "metadata": {},
   "outputs": [],
   "source": []
  },
  {
   "cell_type": "code",
   "execution_count": null,
   "id": "5e281d68-62d3-4e4d-84ab-5ca395051652",
   "metadata": {},
   "outputs": [],
   "source": []
  },
  {
   "cell_type": "code",
   "execution_count": null,
   "id": "79095247-a703-45d4-be57-d6dd2a065947",
   "metadata": {},
   "outputs": [],
   "source": []
  },
  {
   "cell_type": "code",
   "execution_count": null,
   "id": "533cd00d-3f07-4ab7-955d-d3ba5075e702",
   "metadata": {},
   "outputs": [],
   "source": []
  }
 ],
 "metadata": {
  "kernelspec": {
   "display_name": "Python 3 (ipykernel)",
   "language": "python",
   "name": "python3"
  },
  "language_info": {
   "codemirror_mode": {
    "name": "ipython",
    "version": 3
   },
   "file_extension": ".py",
   "mimetype": "text/x-python",
   "name": "python",
   "nbconvert_exporter": "python",
   "pygments_lexer": "ipython3",
   "version": "3.11.7"
  }
 },
 "nbformat": 4,
 "nbformat_minor": 5
}
