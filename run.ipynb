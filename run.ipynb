{
 "cells": [
  {
   "cell_type": "code",
   "execution_count": 1,
   "id": "b98efcfc-45e1-4955-bd68-df3dc911e153",
   "metadata": {},
   "outputs": [],
   "source": [
    "from neural_net import *\n",
    "import numpy"
   ]
  },
  {
   "cell_type": "code",
   "execution_count": 2,
   "id": "06e811a1-abc2-4606-b9da-9086c90a88d6",
   "metadata": {},
   "outputs": [],
   "source": [
    "init_method =lambda i: numpy.random.uniform(-1./50**.5, 1/50**.5, (i+1,1))"
   ]
  },
  {
   "cell_type": "code",
   "execution_count": 3,
   "id": "0bb6da40-bdec-4390-b70a-42d869a3f264",
   "metadata": {
    "scrolled": true
   },
   "outputs": [
    {
     "ename": "ValueError",
     "evalue": "operands could not be broadcast together with shapes (51,1) (102,1) (51,1) ",
     "output_type": "error",
     "traceback": [
      "\u001b[0;31m---------------------------------------------------------------------------\u001b[0m",
      "\u001b[0;31mValueError\u001b[0m                                Traceback (most recent call last)",
      "Cell \u001b[0;32mIn[3], line 19\u001b[0m\n\u001b[1;32m     16\u001b[0m \u001b[38;5;28;01mif\u001b[39;00m \u001b[38;5;18m__name__\u001b[39m \u001b[38;5;241m==\u001b[39m \u001b[38;5;124m'\u001b[39m\u001b[38;5;124m__main__\u001b[39m\u001b[38;5;124m'\u001b[39m:\n\u001b[1;32m     18\u001b[0m     ann\u001b[38;5;241m.\u001b[39meval(X)\n\u001b[0;32m---> 19\u001b[0m     \u001b[43mann\u001b[49m\u001b[38;5;241;43m.\u001b[39;49m\u001b[43mtrain\u001b[49m\u001b[43m(\u001b[49m\u001b[43mX\u001b[49m\u001b[43m,\u001b[49m\u001b[43my\u001b[49m\u001b[43m,\u001b[49m\u001b[43mα\u001b[49m\u001b[38;5;241;43m=\u001b[39;49m\u001b[38;5;241;43m0.3\u001b[39;49m\u001b[43m,\u001b[49m\u001b[43mn_epochs\u001b[49m\u001b[38;5;241;43m=\u001b[39;49m\u001b[38;5;241;43m1\u001b[39;49m\u001b[43m,\u001b[49m\u001b[43mmetrics\u001b[49m\u001b[38;5;241;43m=\u001b[39;49m\u001b[43mmetrics\u001b[49m\u001b[38;5;241;43m.\u001b[39;49m\u001b[43maccuracy\u001b[49m\u001b[43m,\u001b[49m\u001b[43mbatch_size\u001b[49m\u001b[38;5;241;43m=\u001b[39;49m\u001b[38;5;241;43m1000\u001b[39;49m\u001b[43m)\u001b[49m\n",
      "File \u001b[0;32m~/notebooks/neural_net/architecture.py:36\u001b[0m, in \u001b[0;36mSequential.train\u001b[0;34m(self, X, y, n_epochs, α, metrics, batch_size)\u001b[0m\n\u001b[1;32m     34\u001b[0m new_pred \u001b[38;5;241m=\u001b[39m \u001b[38;5;28mself\u001b[39m\u001b[38;5;241m.\u001b[39meval(new_X)\n\u001b[1;32m     35\u001b[0m Δ \u001b[38;5;241m=\u001b[39m α\u001b[38;5;241m*\u001b[39m\u001b[38;5;28mself\u001b[39m\u001b[38;5;241m.\u001b[39mcost_func(new_y,new_pred)\u001b[38;5;241m.\u001b[39mprime()\n\u001b[0;32m---> 36\u001b[0m \u001b[38;5;28;43mself\u001b[39;49m\u001b[38;5;241;43m.\u001b[39;49m\u001b[43mupdate\u001b[49m\u001b[43m(\u001b[49m\u001b[43m{\u001b[49m\u001b[38;5;28;43mself\u001b[39;49m\u001b[38;5;241;43m.\u001b[39;49m\u001b[43moutid\u001b[49m\u001b[43m:\u001b[49m\u001b[43mΔ\u001b[49m\u001b[43m}\u001b[49m\u001b[43m)\u001b[49m\n\u001b[1;32m     37\u001b[0m \u001b[38;5;28;01mif\u001b[39;00m metrics:\n\u001b[1;32m     38\u001b[0m     m \u001b[38;5;241m=\u001b[39m metrics(new_y,new_pred)\n",
      "File \u001b[0;32m~/notebooks/neural_net/architecture.py:45\u001b[0m, in \u001b[0;36mSequential.update\u001b[0;34m(self, Δ)\u001b[0m\n\u001b[1;32m     43\u001b[0m \u001b[38;5;28mself\u001b[39m\u001b[38;5;241m.\u001b[39mΔ \u001b[38;5;241m=\u001b[39m Δ\n\u001b[1;32m     44\u001b[0m \u001b[38;5;28;01mfor\u001b[39;00m step \u001b[38;5;129;01min\u001b[39;00m \u001b[38;5;28mself\u001b[39m\u001b[38;5;241m.\u001b[39msteps[::\u001b[38;5;241m-\u001b[39m\u001b[38;5;241m1\u001b[39m]:\n\u001b[0;32m---> 45\u001b[0m     \u001b[38;5;28mself\u001b[39m\u001b[38;5;241m.\u001b[39mΔ \u001b[38;5;241m=\u001b[39m \u001b[43mstep\u001b[49m\u001b[38;5;241;43m.\u001b[39;49m\u001b[43mupdate\u001b[49m\u001b[43m(\u001b[49m\u001b[38;5;28;43mself\u001b[39;49m\u001b[38;5;241;43m.\u001b[39;49m\u001b[43mΔ\u001b[49m\u001b[43m)\u001b[49m\n\u001b[1;32m     46\u001b[0m \u001b[38;5;28;01mreturn\u001b[39;00m \u001b[38;5;28mself\u001b[39m\n",
      "File \u001b[0;32m~/notebooks/neural_net/model.py:29\u001b[0m, in \u001b[0;36mLayer.update\u001b[0;34m(self, Δnext)\u001b[0m\n\u001b[1;32m     28\u001b[0m \u001b[38;5;28;01mdef\u001b[39;00m \u001b[38;5;21mupdate\u001b[39m(\u001b[38;5;28mself\u001b[39m,Δnext):\n\u001b[0;32m---> 29\u001b[0m     \u001b[38;5;28mself\u001b[39m\u001b[38;5;241m.\u001b[39mΔ \u001b[38;5;241m=\u001b[39m  \u001b[43m{\u001b[49m\u001b[43ms\u001b[49m\u001b[38;5;241;43m.\u001b[39;49m\u001b[43mIn\u001b[49m\u001b[43m[\u001b[49m\u001b[38;5;241;43m0\u001b[39;49m\u001b[43m]\u001b[49m\u001b[43m \u001b[49m\u001b[43m:\u001b[49m\u001b[43m \u001b[49m\u001b[43ms\u001b[49m\u001b[38;5;241;43m.\u001b[39;49m\u001b[43mupdate\u001b[49m\u001b[43m(\u001b[49m\u001b[43mΔnext\u001b[49m\u001b[43m[\u001b[49m\u001b[43ms\u001b[49m\u001b[38;5;241;43m.\u001b[39;49m\u001b[43moutid\u001b[49m\u001b[43m]\u001b[49m\u001b[43m)\u001b[49m\u001b[43m \u001b[49m\u001b[38;5;28;43;01mfor\u001b[39;49;00m\u001b[43m \u001b[49m\u001b[43ms\u001b[49m\u001b[43m \u001b[49m\u001b[38;5;129;43;01min\u001b[39;49;00m\u001b[43m \u001b[49m\u001b[38;5;28;43mself\u001b[39;49m\u001b[38;5;241;43m.\u001b[39;49m\u001b[43moutfuncs\u001b[49m\u001b[43m \u001b[49m\u001b[43m}\u001b[49m\n\u001b[1;32m     30\u001b[0m     oldks \u001b[38;5;241m=\u001b[39m \u001b[38;5;28mlist\u001b[39m(\u001b[38;5;28mself\u001b[39m\u001b[38;5;241m.\u001b[39mΔ)\n\u001b[1;32m     31\u001b[0m     \u001b[38;5;28;01mfor\u001b[39;00m k \u001b[38;5;129;01min\u001b[39;00m oldks:\n",
      "File \u001b[0;32m~/notebooks/neural_net/model.py:29\u001b[0m, in \u001b[0;36m<dictcomp>\u001b[0;34m(.0)\u001b[0m\n\u001b[1;32m     28\u001b[0m \u001b[38;5;28;01mdef\u001b[39;00m \u001b[38;5;21mupdate\u001b[39m(\u001b[38;5;28mself\u001b[39m,Δnext):\n\u001b[0;32m---> 29\u001b[0m     \u001b[38;5;28mself\u001b[39m\u001b[38;5;241m.\u001b[39mΔ \u001b[38;5;241m=\u001b[39m  {s\u001b[38;5;241m.\u001b[39mIn[\u001b[38;5;241m0\u001b[39m] : \u001b[43ms\u001b[49m\u001b[38;5;241;43m.\u001b[39;49m\u001b[43mupdate\u001b[49m\u001b[43m(\u001b[49m\u001b[43mΔnext\u001b[49m\u001b[43m[\u001b[49m\u001b[43ms\u001b[49m\u001b[38;5;241;43m.\u001b[39;49m\u001b[43moutid\u001b[49m\u001b[43m]\u001b[49m\u001b[43m)\u001b[49m \u001b[38;5;28;01mfor\u001b[39;00m s \u001b[38;5;129;01min\u001b[39;00m \u001b[38;5;28mself\u001b[39m\u001b[38;5;241m.\u001b[39moutfuncs }\n\u001b[1;32m     30\u001b[0m     oldks \u001b[38;5;241m=\u001b[39m \u001b[38;5;28mlist\u001b[39m(\u001b[38;5;28mself\u001b[39m\u001b[38;5;241m.\u001b[39mΔ)\n\u001b[1;32m     31\u001b[0m     \u001b[38;5;28;01mfor\u001b[39;00m k \u001b[38;5;129;01min\u001b[39;00m oldks:\n",
      "File \u001b[0;32m~/notebooks/neural_net/activation_funcs.py:27\u001b[0m, in \u001b[0;36mΣ.update\u001b[0;34m(self, Δ)\u001b[0m\n\u001b[1;32m     25\u001b[0m \u001b[38;5;28;01mdef\u001b[39;00m \u001b[38;5;21mupdate\u001b[39m(\u001b[38;5;28mself\u001b[39m,Δ):\n\u001b[1;32m     26\u001b[0m     \u001b[38;5;28mself\u001b[39m\u001b[38;5;241m.\u001b[39mΔ \u001b[38;5;241m=\u001b[39m (\u001b[38;5;28mself\u001b[39m\u001b[38;5;241m.\u001b[39mprime()\u001b[38;5;241m.\u001b[39mT\u001b[38;5;241m.\u001b[39mdot(Δ))\u001b[38;5;241m.\u001b[39mreshape(\u001b[38;5;241m-\u001b[39m\u001b[38;5;241m1\u001b[39m,\u001b[38;5;241m1\u001b[39m)\u001b[38;5;241m/\u001b[39m\u001b[38;5;28mself\u001b[39m\u001b[38;5;241m.\u001b[39mIn[\u001b[38;5;241m1\u001b[39m]\u001b[38;5;241m.\u001b[39mshape[\u001b[38;5;241m0\u001b[39m]\n\u001b[0;32m---> 27\u001b[0m     \u001b[38;5;28;43mself\u001b[39;49m\u001b[38;5;241;43m.\u001b[39;49m\u001b[43mw\u001b[49m\u001b[43m \u001b[49m\u001b[38;5;241;43m-\u001b[39;49m\u001b[38;5;241;43m=\u001b[39;49m\u001b[43m \u001b[49m\u001b[38;5;28;43mself\u001b[39;49m\u001b[38;5;241;43m.\u001b[39;49m\u001b[43mΔ\u001b[49m\n\u001b[1;32m     28\u001b[0m     \u001b[38;5;28mself\u001b[39m\u001b[38;5;241m.\u001b[39minsert_db(\u001b[38;5;241m*\u001b[39mSQL\u001b[38;5;241m.\u001b[39mweights(\u001b[38;5;28mself\u001b[39m))\n\u001b[1;32m     29\u001b[0m     \u001b[38;5;28mself\u001b[39m\u001b[38;5;241m.\u001b[39mΔtrick \u001b[38;5;241m=\u001b[39m \u001b[38;5;28mself\u001b[39m\u001b[38;5;241m.\u001b[39mΔ\u001b[38;5;241m.\u001b[39mT\u001b[38;5;241m.\u001b[39mdot(\u001b[38;5;28mself\u001b[39m\u001b[38;5;241m.\u001b[39mw)\n",
      "\u001b[0;31mValueError\u001b[0m: operands could not be broadcast together with shapes (51,1) (102,1) (51,1) "
     ]
    }
   ],
   "source": [
    "ann = architecture.Sequential(\n",
    "        [\n",
    "         layers.fullyconnected(n_in=2,n_out=50,init_method=init_method),\n",
    "         layers.activation(n_in=50,n_out=50,func= activation_funcs.LeakyReLU),\n",
    "         layers.fullyconnected(n_in=50,n_out=50,init_method=init_method),\n",
    "         layers.activation(n_in=50,n_out=50,func= activation_funcs.LeakyReLU),\n",
    "         layers.fullyconnected(n_in=50,n_out=2,init_method=init_method),\n",
    "         layers.activation(n_in=2,n_out=1,func= activation_funcs.Softmax)\n",
    "        ]\n",
    "    ,cost_func= loss.MSE)\n",
    "\n",
    "X = utils.numpy.random.uniform(-1, 1, (1000, 2))\n",
    "y =( (X[:, 0]**2 + X[:, 1]**2)/utils.numpy.pi < 0.2).reshape(-1,1)+0\n",
    "\n",
    "\n",
    "if __name__ == '__main__':\n",
    "\n",
    "    ann.eval(X)\n",
    "    ann.train(X,y,α=0.3,n_epochs=1,metrics=metrics.accuracy,batch_size=1000)"
   ]
  },
  {
   "cell_type": "code",
   "execution_count": 27,
   "id": "6e7f9e26-a680-4bb5-9550-952147cefe5e",
   "metadata": {},
   "outputs": [
    {
     "data": {
      "text/plain": [
       "(1000, 2)"
      ]
     },
     "execution_count": 27,
     "metadata": {},
     "output_type": "execute_result"
    }
   ],
   "source": [
    "ann.steps[-1].Δ[140569181319600].shape"
   ]
  },
  {
   "cell_type": "code",
   "execution_count": 31,
   "id": "86d81cb7-ecde-43ef-940e-053cabb11dac",
   "metadata": {},
   "outputs": [
    {
     "data": {
      "text/plain": [
       "(1000, 2)"
      ]
     },
     "execution_count": 31,
     "metadata": {},
     "output_type": "execute_result"
    }
   ],
   "source": [
    "ann.steps[-1].outfuncs[0].In[1].shape"
   ]
  },
  {
   "cell_type": "code",
   "execution_count": 19,
   "id": "83bc0eff-ead2-4bfa-b046-50b5b0c7d975",
   "metadata": {},
   "outputs": [
    {
     "data": {
      "text/plain": [
       "(51, 1)"
      ]
     },
     "execution_count": 19,
     "metadata": {},
     "output_type": "execute_result"
    }
   ],
   "source": [
    "ann.steps[-2].outfuncs[0].w.shape"
   ]
  },
  {
   "cell_type": "code",
   "execution_count": 23,
   "id": "a542410d-dd14-4dcd-815f-867c8c83296e",
   "metadata": {},
   "outputs": [
    {
     "data": {
      "text/plain": [
       "(1000, 2)"
      ]
     },
     "execution_count": 23,
     "metadata": {},
     "output_type": "execute_result"
    }
   ],
   "source": [
    "ann.steps[-1].outfuncs[0].Δ.shape"
   ]
  },
  {
   "cell_type": "code",
   "execution_count": 24,
   "id": "1a18f3d8-ca8a-45be-aabf-e09e0bd87afe",
   "metadata": {},
   "outputs": [
    {
     "data": {
      "text/plain": [
       "(102, 1)"
      ]
     },
     "execution_count": 24,
     "metadata": {},
     "output_type": "execute_result"
    }
   ],
   "source": [
    "ann.steps[-2].outfuncs[0].Δ.shape"
   ]
  },
  {
   "cell_type": "code",
   "execution_count": 20,
   "id": "ff82af5b-3d3f-4c8c-a18e-1bb47f6e09c5",
   "metadata": {},
   "outputs": [
    {
     "data": {
      "text/plain": [
       "(102, 1)"
      ]
     },
     "execution_count": 20,
     "metadata": {},
     "output_type": "execute_result"
    }
   ],
   "source": [
    "ann.steps[-2].outfuncs[0].Δ.shape"
   ]
  },
  {
   "cell_type": "code",
   "execution_count": 18,
   "id": "eeb50e07-95be-489e-a680-fe4a6b5d6a32",
   "metadata": {},
   "outputs": [
    {
     "data": {
      "text/plain": [
       "array([[-0.07267695, -0.07718719],\n",
       "       [ 0.07690406,  0.07299387],\n",
       "       [ 0.07676422,  0.07314852],\n",
       "       ...,\n",
       "       [-0.07294512, -0.07694791],\n",
       "       [-0.07277911, -0.07709642],\n",
       "       [ 0.07719121,  0.07267241]])"
      ]
     },
     "execution_count": 18,
     "metadata": {},
     "output_type": "execute_result"
    }
   ],
   "source": [
    "ann.steps[-1].outfuncs[0].Δ"
   ]
  },
  {
   "cell_type": "code",
   "execution_count": 19,
   "id": "63cc3302-8c86-40e7-8415-f7ca2bcee589",
   "metadata": {},
   "outputs": [
    {
     "data": {
      "text/plain": [
       "array([[ 0.25729062, -0.25729062],\n",
       "       [-0.2433129 ,  0.2433129 ],\n",
       "       [-0.2438284 ,  0.2438284 ],\n",
       "       ...,\n",
       "       [ 0.25649303, -0.25649303],\n",
       "       [ 0.25698807, -0.25698807],\n",
       "       [-0.24224137,  0.24224137]])"
      ]
     },
     "execution_count": 19,
     "metadata": {},
     "output_type": "execute_result"
    }
   ],
   "source": [
    "ann.cost_func(utils.onehot(y),ann.out).prime()*ann.steps[-1].outfuncs[0].prime()"
   ]
  },
  {
   "cell_type": "code",
   "execution_count": null,
   "id": "c8ea2a06-c4d3-4a80-93e3-2c2ab07b27d0",
   "metadata": {},
   "outputs": [],
   "source": [
    "a=MSE(y,p)"
   ]
  },
  {
   "cell_type": "code",
   "execution_count": null,
   "id": "35d15112-06c7-433a-a405-7e26ed895d02",
   "metadata": {},
   "outputs": [],
   "source": [
    "a.p"
   ]
  },
  {
   "cell_type": "code",
   "execution_count": null,
   "id": "bdeca66d-1f89-44a1-a593-8e5542e3e564",
   "metadata": {},
   "outputs": [],
   "source": []
  }
 ],
 "metadata": {
  "kernelspec": {
   "display_name": "Python 3 (ipykernel)",
   "language": "python",
   "name": "python3"
  },
  "language_info": {
   "codemirror_mode": {
    "name": "ipython",
    "version": 3
   },
   "file_extension": ".py",
   "mimetype": "text/x-python",
   "name": "python",
   "nbconvert_exporter": "python",
   "pygments_lexer": "ipython3",
   "version": "3.11.7"
  }
 },
 "nbformat": 4,
 "nbformat_minor": 5
}
